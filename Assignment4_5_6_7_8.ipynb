{
  "cells": [
    {
      "cell_type": "markdown",
      "metadata": {
        "id": "view-in-github",
        "colab_type": "text"
      },
      "source": [
        "<a href=\"https://colab.research.google.com/github/Arjun-RY/Projects/blob/task/Assignment4_5_6_7_8.ipynb\" target=\"_parent\"><img src=\"https://colab.research.google.com/assets/colab-badge.svg\" alt=\"Open In Colab\"/></a>"
      ]
    },
    {
      "cell_type": "code",
      "execution_count": null,
      "metadata": {
        "id": "m21RlvAk9ewQ"
      },
      "outputs": [],
      "source": [
        "import pandas as pd\n",
        "import matplotlib.pyplot as plt\n",
        "import numpy as np\n",
        "from sklearn import linear_model"
      ]
    },
    {
      "cell_type": "markdown",
      "metadata": {
        "id": "ngQBL43J9ewT"
      },
      "source": [
        "# Assignment 5\n"
      ]
    },
    {
      "cell_type": "markdown",
      "metadata": {
        "id": "-_boJrp09ewV"
      },
      "source": [
        "## Ground Cricket Chirps\n",
        "\n",
        "In _The Song of Insects_ (1948) by George W. Pierce, Pierce mechanically measured the frequency (the number of wing vibrations per second) of chirps (or pulses of sound) made by a striped ground cricket, at various ground temperatures.  Since crickets are ectotherms (cold-blooded), the rate of their physiological processes and their overall metabolism are influenced by temperature.  Consequently, there is reason to believe that temperature would have a profound effect on aspects of their behavior, such as chirp frequency.\n",
        "\n",
        "In general, it was found that crickets did not sing at temperatures colder than 60º F. or warmer than 100º F."
      ]
    },
    {
      "cell_type": "code",
      "execution_count": null,
      "metadata": {
        "id": "bmjuKsr-9ewW"
      },
      "outputs": [],
      "source": [
        "ground_cricket_data = {\"Chirps/Second\": [20.0, 16.0, 19.8, 18.4, 17.1, 15.5, 14.7,\n",
        "                                         15.7, 15.4, 16.3, 15.0, 17.2, 16.0, 17.0,\n",
        "                                         14.4],\n",
        "                       \"Ground Temperature\": [88.6, 71.6, 93.3, 84.3, 80.6, 75.2, 69.7,\n",
        "                                              71.6, 69.4, 83.3, 79.6, 82.6, 80.6, 83.5,\n",
        "                                              76.3]}\n",
        "df = pd.DataFrame(ground_cricket_data)"
      ]
    },
    {
      "cell_type": "markdown",
      "metadata": {
        "id": "SrevKY1N9ewX"
      },
      "source": [
        "### Tasks\n",
        "\n",
        "1. Find the linear regression equation for this data.\n",
        "2. Chart the original data and the equation on the chart.\n",
        "3. Find the equation's $R^2$ score (use the `.score` method) to determine whether the\n",
        "equation is a good fit for this data. (0.8 and greater is considered a strong correlation.)\n",
        "4. Extrapolate data:  If the ground temperature reached 95, then at what approximate rate would you expect the crickets to be chirping?\n",
        "5. Interpolate data:  With a listening device, you discovered that on a particular morning the crickets were chirping at a rate of 18 chirps per second.  What was the approximate ground temperature that morning? "
      ]
    },
    {
      "cell_type": "code",
      "source": [
        "x = df['Ground Temperature']\n",
        "x = x.to_frame()\n",
        "y = df['Chirps/Second']\n",
        "linreg = linear_model.LinearRegression()\n",
        "linreg.fit(x, y)\n",
        "print(f'Chirps/Second = {linreg.coef_}*(Ground Temperature)  + {linreg.intercept_}')\n",
        "print('r-squared: ', linreg.score(x, y))\n",
        "plt.scatter(x, y)\n",
        "plt.plot(x, linreg.predict(x), color='orange')"
      ],
      "metadata": {
        "colab": {
          "base_uri": "https://localhost:8080/",
          "height": 317
        },
        "id": "_9bqV8Lh-Qrd",
        "outputId": "fc86eb55-56b8-49b6-a076-2eeecd7f1e6b"
      },
      "execution_count": null,
      "outputs": [
        {
          "output_type": "stream",
          "name": "stdout",
          "text": [
            "Chirps/Second = [0.20299973]*(Ground Temperature)  + 0.45931464523595267\n",
            "r-squared:  0.6922946529146998\n"
          ]
        },
        {
          "output_type": "execute_result",
          "data": {
            "text/plain": [
              "[<matplotlib.lines.Line2D at 0x7fb551d21e90>]"
            ]
          },
          "metadata": {},
          "execution_count": 21
        },
        {
          "output_type": "display_data",
          "data": {
            "text/plain": [
              "<Figure size 432x288 with 1 Axes>"
            ],
            "image/png": "[encoded data removed]"
          },
          "metadata": {
            "needs_background": "light"
          }
        }
      ]
    },
    {
      "cell_type": "code",
      "source": [
        "Chirps = (0.20299973*95) + 0.45931464523595267\n",
        "print('When Ground temperature is 95, the chirps/second = ',round(Chirps,1))\n",
        "groundT= (18-0.45931464523595267)/0.20299973\n",
        "print('When the chirping rate is 18 , the ground temperature = ',round(groundT,1))"
      ],
      "metadata": {
        "colab": {
          "base_uri": "https://localhost:8080/"
        },
        "id": "ZV69CPYdAw41",
        "outputId": "aaad5ffb-29b2-4e99-89d6-581d35a7a1e4"
      },
      "execution_count": null,
      "outputs": [
        {
          "output_type": "stream",
          "name": "stdout",
          "text": [
            "When Ground temperature is 95, the chirps/second =  19.7\n",
            "When the chirping rate is 18 , the ground temperature =  86.4\n"
          ]
        }
      ]
    },
    {
      "cell_type": "markdown",
      "metadata": {
        "id": "O5I-S2-N9ewY"
      },
      "source": [
        "# Assignment 6"
      ]
    },
    {
      "cell_type": "markdown",
      "metadata": {
        "id": "B3VwMNHU9ewY"
      },
      "source": [
        "## Brain vs. Body Weight\n",
        "\n",
        "In the file `brain_body.txt`, the average brain and body weight for a number of mammal species are recorded. Load this data into a Pandas data frame.\n",
        "\n",
        "### Tasks\n",
        "\n",
        "1. Find the linear regression equation for this data for brain weight to body weight.\n",
        "2. Chart the original data and the equation on the chart.\n",
        "3. Find the equation's $R^2$ score (use the `.score` method) to determine whether the\n",
        "equation is a good fit for this data. (0.8 and greater is considered a strong correlation.)"
      ]
    },
    {
      "cell_type": "code",
      "source": [
        "df = pd.read_fwf(\"brain_body.txt\")\n",
        "x = df['Brain']\n",
        "x = x.to_frame()\n",
        "y = df['Body']\n",
        "linreg = linear_model.LinearRegression()\n",
        "linreg.fit(x, y)\n",
        "print(f'Body_weight = {linreg.coef_}*(Brain_weight)  + {linreg.intercept_}')\n",
        "print('r-squared: ', linreg.score(x, y))\n",
        "plt.scatter(x, y)\n",
        "plt.plot(x, linreg.predict(x), color='orange')"
      ],
      "metadata": {
        "colab": {
          "base_uri": "https://localhost:8080/",
          "height": 317
        },
        "id": "9Q6py34wC1in",
        "outputId": "a33750c1-49c8-4fb0-a399-b694a515c1b3"
      },
      "execution_count": null,
      "outputs": [
        {
          "output_type": "stream",
          "name": "stdout",
          "text": [
            "Body_weight = [0.96649637]*(Brain_weight)  + 91.00439620740687\n",
            "r-squared:  0.8726620843043331\n"
          ]
        },
        {
          "output_type": "execute_result",
          "data": {
            "text/plain": [
              "[<matplotlib.lines.Line2D at 0x7fb551c08f10>]"
            ]
          },
          "metadata": {},
          "execution_count": 25
        },
        {
          "output_type": "display_data",
          "data": {
            "text/plain": [
              "<Figure size 432x288 with 1 Axes>"
            ],
            "image/png": "[encoded data removed]"
          },
          "metadata": {
            "needs_background": "light"
          }
        }
      ]
    },
    {
      "cell_type": "markdown",
      "source": [
        "Since, the R-squared value (0.87) is greater than 0.8 the equation is good fit for this data"
      ],
      "metadata": {
        "id": "ZHi_hlShFJKo"
      }
    },
    {
      "cell_type": "markdown",
      "metadata": {
        "id": "8CcA-d_o9ewa"
      },
      "source": [
        "# Assignment 7"
      ]
    },
    {
      "cell_type": "markdown",
      "metadata": {
        "id": "buHN5Lz99ewb"
      },
      "source": [
        "## Salary Discrimination\n",
        "\n",
        "The file `salary.txt` contains data for 52 tenure-track professors at a small Midwestern college. This data was used in legal proceedings in the 1980s about discrimination against women in salary.\n",
        "\n",
        "The data in the file, by column:\n",
        "\n",
        "1. Sex. 1 for female, 0 for male.\n",
        "2. Rank. 1 for assistant professor, 2 for associate professor, 3 for full professor.\n",
        "3. Year. Number of years in current rank.\n",
        "4. Degree. Highest degree. 1 for doctorate, 0 for master's.\n",
        "5. YSdeg. Years since highest degree was earned.\n",
        "6. Salary. Salary/year in dollars.\n",
        "\n",
        "### Tasks\n",
        "\n",
        "1. Find the linear regression equation for this data using columns 1-5 to column 6.\n",
        "2. Find the selection of columns with the best $R^2$ score.\n",
        "3. Report whether sex is a factor in salary."
      ]
    },
    {
      "cell_type": "code",
      "source": [
        "df = pd.read_fwf(\"salary.txt\", header=None, names=[\"Sex\", \"Rank\", \"Year\", \"Degree\", \"YSdeg\", \"Salary\"])\n",
        "feature = ['Sex', 'Rank', 'Year', 'Degree', 'YSdeg']\n",
        "x = df[feature]\n",
        "y = df.Salary\n",
        "linreg = linear_model.LinearRegression()\n",
        "linreg.fit(x, y)\n",
        "print('Features & Coefficients')\n",
        "print(list(zip(feature, linreg.coef_)))"
      ],
      "metadata": {
        "colab": {
          "base_uri": "https://localhost:8080/"
        },
        "id": "i_zmkOrzFhIt",
        "outputId": "dbd27f74-7c78-462c-e3c4-959ecb310ee0"
      },
      "execution_count": null,
      "outputs": [
        {
          "output_type": "stream",
          "name": "stdout",
          "text": [
            "Features & Coefficients\n",
            "[('Sex', 1241.792499601427), ('Rank', 5586.1814495214385), ('Year', 482.85976782882153), ('Degree', -1331.6440634059095), ('YSdeg', -128.79057354486122)]\n"
          ]
        }
      ]
    },
    {
      "cell_type": "code",
      "source": [
        "import statsmodels.api as sm\n",
        "df = pd.read_fwf(\"salary.txt\", header=None, names=[\"Sex\", \"Rank\", \"Year\", \"Degree\", \"YSdeg\", \"Salary\"])\n",
        "feature = ['Sex', 'Rank', 'Year', 'Degree', 'YSdeg']\n",
        "x = df[feature]\n",
        "y = df.Salary\n",
        "\n",
        "#add constant to predictor variables\n",
        "x = sm.add_constant(x)\n",
        "\n",
        "#fit linear regression model\n",
        "model = sm.OLS(y, x).fit()\n",
        "\n",
        "#view model summary\n",
        "print(model.summary())"
      ],
      "metadata": {
        "colab": {
          "base_uri": "https://localhost:8080/"
        },
        "id": "elFlL1haHRuD",
        "outputId": "0848f8ec-8ac5-4491-b0e3-2f8619755469"
      },
      "execution_count": null,
      "outputs": [
        {
          "output_type": "stream",
          "name": "stdout",
          "text": [
            "                            OLS Regression Results                            \n",
            "==============================================================================\n",
            "Dep. Variable:                 Salary   R-squared:                       0.855\n",
            "Model:                            OLS   Adj. R-squared:                  0.839\n",
            "Method:                 Least Squares   F-statistic:                     54.13\n",
            "Date:                Wed, 21 Sep 2022   Prob (F-statistic):           3.86e-18\n",
            "Time:                        17:35:31   Log-Likelihood:                -474.78\n",
            "No. Observations:                  52   AIC:                             961.6\n",
            "Df Residuals:                      46   BIC:                             973.3\n",
            "Df Model:                           5                                         \n",
            "Covariance Type:            nonrobust                                         \n",
            "==============================================================================\n",
            "                 coef    std err          t      P>|t|      [0.025      0.975]\n",
            "------------------------------------------------------------------------------\n",
            "const       1.141e+04   1081.052     10.555      0.000    9234.101    1.36e+04\n",
            "Sex         1241.7925    885.560      1.402      0.168    -540.747    3024.332\n",
            "Rank        5586.1814    663.967      8.413      0.000    4249.685    6922.678\n",
            "Year         482.8598     91.718      5.265      0.000     298.242     667.478\n",
            "Degree     -1331.6441    992.854     -1.341      0.186   -3330.156     666.868\n",
            "YSdeg       -128.7906     75.582     -1.704      0.095    -280.928      23.347\n",
            "==============================================================================\n",
            "Omnibus:                       26.336   Durbin-Watson:                   1.748\n",
            "Prob(Omnibus):                  0.000   Jarque-Bera (JB):               54.754\n",
            "Skew:                           1.482   Prob(JB):                     1.29e-12\n",
            "Kurtosis:                       7.060   Cond. No.                         79.1\n",
            "==============================================================================\n",
            "\n",
            "Notes:\n",
            "[1] Standard Errors assume that the covariance matrix of the errors is correctly specified.\n"
          ]
        }
      ]
    },
    {
      "cell_type": "markdown",
      "source": [
        "P>|t| -  The individual p-values tell us whether or not each predictor variable is statistically significant. We can see that “Rank” and \"Year\" are statistically significant (p = 0.00) while “SEX” (p = 0.168) is not statistically significant at α = 0.05. Hence, sex is not a factor in salary"
      ],
      "metadata": {
        "id": "7XaDzoqlIs6n"
      }
    },
    {
      "cell_type": "markdown",
      "metadata": {
        "id": "dZjNOuAzJsMX"
      },
      "source": [
        "# Assignment 8\n"
      ]
    },
    {
      "cell_type": "markdown",
      "metadata": {
        "id": "8vaTdiZM85x4"
      },
      "source": [
        "# How Much is Your Car Worth?\n",
        "\n",
        "Data about the retail price of 2005 General Motors cars can be found in `car_data.csv`.\n",
        "\n",
        "The columns are:\n",
        "\n",
        "1. Price: suggested retail price of the used 2005 GM car in excellent condition.\n",
        "2. Mileage: number of miles the car has been driven\n",
        "3. Make: manufacturer of the car such as Saturn, Pontiac, and Chevrolet\n",
        "4. Model: specific models for each car manufacturer such as Ion, Vibe, Cavalier\n",
        "5. Trim (of car): specific type of car model such as SE Sedan 4D, Quad Coupe 2D          \n",
        "6. Type: body type such as sedan, coupe, etc.      \n",
        "7. Cylinder: number of cylinders in the engine        \n",
        "8. Liter: a more specific measure of engine size     \n",
        "9. Doors: number of doors           \n",
        "10. Cruise: indicator variable representing whether the car has cruise control (1 = cruise)\n",
        "11. Sound: indicator variable representing whether the car has upgraded speakers (1 = upgraded)\n",
        "12. Leather: indicator variable representing whether the car has leather seats (1 = leather)\n",
        "\n",
        "## Tasks, Part 1\n",
        "\n",
        "1. Find the linear regression equation for mileage vs price.\n",
        "2. Chart the original data and the equation on the chart.\n",
        "3. Find the equation's $R^2$ score (use the `.score` method) to determine whether the\n",
        "equation is a good fit for this data. (0.8 and greater is considered a strong correlation.)\n",
        "\n",
        "## Tasks, Part 2\n",
        "\n",
        "1. Use mileage, cylinders, liters, doors, cruise, sound, and leather to find the linear regression equation.\n",
        "2. Find the equation's $R^2$ score (use the `.score` method) to determine whether the\n",
        "equation is a good fit for this data. (0.8 and greater is considered a strong correlation.)\n",
        "3. Find the combination of the factors that is the best predictor for price.\n",
        "\n",
        "## Tasks, Hard Mode\n",
        "\n",
        "1. Research dummy variables in scikit-learn to see how to use the make, model, and body type.\n",
        "2. Find the best combination of factors to predict price."
      ]
    },
    {
      "cell_type": "code",
      "execution_count": null,
      "metadata": {
        "id": "Dn7QyzaL85x6",
        "colab": {
          "base_uri": "https://localhost:8080/",
          "height": 797
        },
        "outputId": "cc6f565a-c34c-4566-d86a-708457156194"
      },
      "outputs": [
        {
          "output_type": "stream",
          "name": "stdout",
          "text": [
            "Mileage = [[-0.11861458]]*Price + [22363.54215594]\n",
            "R-squared = 0.0205\n"
          ]
        },
        {
          "output_type": "stream",
          "name": "stderr",
          "text": [
            "/usr/local/lib/python3.7/dist-packages/sklearn/base.py:493: FutureWarning: The feature names should match those that were passed during fit. Starting version 1.2, an error will be raised.\n",
            "Feature names unseen at fit time:\n",
            "- Mileage\n",
            "Feature names seen at fit time, yet now missing:\n",
            "- Price\n",
            "\n",
            "  warnings.warn(message, FutureWarning)\n"
          ]
        },
        {
          "output_type": "display_data",
          "data": {
            "text/plain": [
              "<Figure size 1440x720 with 1 Axes>"
            ],
            "image/png": "[encoded data removed]"
          },
          "metadata": {
            "needs_background": "light"
          }
        },
        {
          "output_type": "stream",
          "name": "stdout",
          "text": [
            "\n",
            "weak correlation\n"
          ]
        }
      ],
      "source": [
        "df = pd.read_csv(\"car_data.csv\")\n",
        "x = df[[\"Price\"]]\n",
        "y = df[[\"Mileage\"]]\n",
        "\n",
        "linreg = linear_model.LinearRegression()\n",
        "linreg.fit(x, y)\n",
        "print(f'Mileage = {linreg.coef_}*Price + {linreg.intercept_}')\n",
        "print('R-squared = {:.4f}'.format(linreg.score(x, y)))\n",
        "fig, ax = plt.subplots(figsize=(20, 10))\n",
        "plt.scatter(y, x) \n",
        "plt.plot(y, linreg.predict(y), color='orange')\n",
        "plt.ylabel(\"Price\")\n",
        "plt.xlabel('Mileage')\n",
        "plt.show()\n",
        "print()\n",
        "print('strong correlation' if linreg.score(x, y)>0.8 else 'weak correlation')"
      ]
    },
    {
      "cell_type": "code",
      "source": [
        "\n",
        "import statsmodels.api as sm\n",
        "features = [\"Mileage\", \"Cylinder\", \"Liter\",\"Doors\",\"Cruise\",\"Sound\",\"Leather\"]\n",
        "price = [\"Price\"]\n",
        "x = df[features]\n",
        "y = df[price]\n",
        "\n",
        "#add constant to predictor variables\n",
        "x = sm.add_constant(x)\n",
        "\n",
        "#fit linear regression model\n",
        "model = sm.OLS(y, x).fit()\n",
        "\n",
        "#view model summary\n",
        "print(model.summary())"
      ],
      "metadata": {
        "colab": {
          "base_uri": "https://localhost:8080/"
        },
        "id": "X-TWh-fxNmbw",
        "outputId": "048756e9-4169-499e-f017-c9708a05c863"
      },
      "execution_count": null,
      "outputs": [
        {
          "output_type": "stream",
          "name": "stdout",
          "text": [
            "                            OLS Regression Results                            \n",
            "==============================================================================\n",
            "Dep. Variable:                  Price   R-squared:                       0.446\n",
            "Model:                            OLS   Adj. R-squared:                  0.441\n",
            "Method:                 Least Squares   F-statistic:                     91.64\n",
            "Date:                Wed, 21 Sep 2022   Prob (F-statistic):           8.80e-98\n",
            "Time:                        18:03:59   Log-Likelihood:                -8298.5\n",
            "No. Observations:                 804   AIC:                         1.661e+04\n",
            "Df Residuals:                     796   BIC:                         1.665e+04\n",
            "Df Model:                           7                                         \n",
            "Covariance Type:            nonrobust                                         \n",
            "==============================================================================\n",
            "                 coef    std err          t      P>|t|      [0.025      0.975]\n",
            "------------------------------------------------------------------------------\n",
            "const       6758.7551   1876.967      3.601      0.000    3074.365    1.04e+04\n",
            "Mileage       -0.1697      0.032     -5.326      0.000      -0.232      -0.107\n",
            "Cylinder    3792.3789    683.180      5.551      0.000    2451.332    5133.426\n",
            "Liter       -787.2207    867.062     -0.908      0.364   -2489.218     914.777\n",
            "Doors      -1542.7458    320.456     -4.814      0.000   -2171.784    -913.708\n",
            "Cruise      6288.9971    657.992      9.558      0.000    4997.392    7580.602\n",
            "Sound      -1993.7953    571.776     -3.487      0.001   -3116.162    -871.429\n",
            "Leather     3349.3616    597.681      5.604      0.000    2176.144    4522.579\n",
            "==============================================================================\n",
            "Omnibus:                      135.077   Durbin-Watson:                   0.310\n",
            "Prob(Omnibus):                  0.000   Jarque-Bera (JB):              226.476\n",
            "Skew:                           1.054   Prob(JB):                     6.63e-50\n",
            "Kurtosis:                       4.523   Cond. No.                     1.61e+05\n",
            "==============================================================================\n",
            "\n",
            "Notes:\n",
            "[1] Standard Errors assume that the covariance matrix of the errors is correctly specified.\n",
            "[2] The condition number is large, 1.61e+05. This might indicate that there are\n",
            "strong multicollinearity or other numerical problems.\n"
          ]
        },
        {
          "output_type": "stream",
          "name": "stderr",
          "text": [
            "/usr/local/lib/python3.7/dist-packages/statsmodels/tsa/tsatools.py:142: FutureWarning: In a future version of pandas all arguments of concat except for the argument 'objs' will be keyword-only\n",
            "  x = pd.concat(x[::order], 1)\n"
          ]
        }
      ]
    },
    {
      "cell_type": "markdown",
      "source": [
        "###R-squared value = 0.446\n",
        "####Since P>|t| values of mileage, cylinder, doors, cruise, sound and leather are less than 0.05 we can use these factors to predict the price."
      ],
      "metadata": {
        "id": "aBUrTjpjOa7R"
      }
    },
    {
      "cell_type": "markdown",
      "metadata": {
        "id": "ey4PQnpeQDjw"
      },
      "source": [
        "# Assignment 4\n"
      ]
    },
    {
      "cell_type": "markdown",
      "source": [
        "## Need to be done"
      ],
      "metadata": {
        "id": "Gll-8MyGRHiu"
      }
    }
  ],
  "metadata": {
    "kernelspec": {
      "display_name": "Python 3",
      "language": "python",
      "name": "python3"
    },
    "language_info": {
      "codemirror_mode": {
        "name": "ipython",
        "version": 3
      },
      "file_extension": ".py",
      "mimetype": "text/x-python",
      "name": "python",
      "nbconvert_exporter": "python",
      "pygments_lexer": "ipython3",
      "version": "3.8.3"
    },
    "colab": {
      "provenance": [],
      "include_colab_link": true
    }
  },
  "nbformat": 4,
  "nbformat_minor": 0
}