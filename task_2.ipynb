{
  "cells": [
    {
      "cell_type": "markdown",
      "metadata": {
        "id": "view-in-github",
        "colab_type": "text"
      },
      "source": [
        "<a href=\"https://colab.research.google.com/github/Arjun-RY/Projects/blob/task/task_2.ipynb\" target=\"_parent\"><img src=\"https://colab.research.google.com/assets/colab-badge.svg\" alt=\"Open In Colab\"/></a>"
      ]
    },
    {
      "cell_type": "markdown",
      "metadata": {
        "id": "oC88_7SA8fHS"
      },
      "source": [
        "# Numpy\n",
        "\n"
      ]
    },
    {
      "cell_type": "markdown",
      "metadata": {
        "id": "78vqh0yR8fHa"
      },
      "source": [
        "#### 1. Import the numpy package under the name `np` (★☆☆) \n",
        "(**hint**: import … as …)"
      ]
    },
    {
      "cell_type": "code",
      "execution_count": 2,
      "metadata": {
        "collapsed": true,
        "id": "oyhxb5Ko8fHb"
      },
      "outputs": [],
      "source": [
        "import numpy as np"
      ]
    },
    {
      "cell_type": "markdown",
      "metadata": {
        "id": "rQynVYYL8fHc"
      },
      "source": [
        "#### 2. Print the numpy version and the configuration (★☆☆) \n",
        "(**hint**: np.\\_\\_version\\_\\_, np.show\\_config)"
      ]
    },
    {
      "cell_type": "code",
      "execution_count": null,
      "metadata": {
        "id": "g3zRlpsX8fHc",
        "colab": {
          "base_uri": "https://localhost:8080/"
        },
        "outputId": "8630c72c-57b3-45f8-dd34-4f08b8079358"
      },
      "outputs": [
        {
          "output_type": "stream",
          "name": "stdout",
          "text": [
            "1.21.6\n",
            "blas_mkl_info:\n",
            "  NOT AVAILABLE\n",
            "blis_info:\n",
            "  NOT AVAILABLE\n",
            "openblas_info:\n",
            "    libraries = ['openblas', 'openblas']\n",
            "    library_dirs = ['/usr/local/lib']\n",
            "    language = c\n",
            "    define_macros = [('HAVE_CBLAS', None)]\n",
            "    runtime_library_dirs = ['/usr/local/lib']\n",
            "blas_opt_info:\n",
            "    libraries = ['openblas', 'openblas']\n",
            "    library_dirs = ['/usr/local/lib']\n",
            "    language = c\n",
            "    define_macros = [('HAVE_CBLAS', None)]\n",
            "    runtime_library_dirs = ['/usr/local/lib']\n",
            "lapack_mkl_info:\n",
            "  NOT AVAILABLE\n",
            "openblas_lapack_info:\n",
            "    libraries = ['openblas', 'openblas']\n",
            "    library_dirs = ['/usr/local/lib']\n",
            "    language = c\n",
            "    define_macros = [('HAVE_CBLAS', None)]\n",
            "    runtime_library_dirs = ['/usr/local/lib']\n",
            "lapack_opt_info:\n",
            "    libraries = ['openblas', 'openblas']\n",
            "    library_dirs = ['/usr/local/lib']\n",
            "    language = c\n",
            "    define_macros = [('HAVE_CBLAS', None)]\n",
            "    runtime_library_dirs = ['/usr/local/lib']\n",
            "Supported SIMD extensions in this NumPy install:\n",
            "    baseline = SSE,SSE2,SSE3\n",
            "    found = SSSE3,SSE41,POPCNT,SSE42,AVX,F16C,FMA3,AVX2\n",
            "    not found = AVX512F,AVX512CD,AVX512_KNL,AVX512_KNM,AVX512_SKX,AVX512_CLX,AVX512_CNL,AVX512_ICL\n",
            "None\n"
          ]
        }
      ],
      "source": [
        "print(np.__version__)\n",
        "print(np.show_config())"
      ]
    },
    {
      "cell_type": "markdown",
      "metadata": {
        "id": "6VOywWUf8fHd"
      },
      "source": [
        "#### 3. Create a null vector of size 10 (★☆☆) \n",
        "(**hint**: np.zeros)"
      ]
    },
    {
      "cell_type": "code",
      "execution_count": null,
      "metadata": {
        "id": "kanoSFMB8fHd",
        "colab": {
          "base_uri": "https://localhost:8080/"
        },
        "outputId": "9b40ecf7-fa18-405f-a7f6-9a1ddb8414d9"
      },
      "outputs": [
        {
          "output_type": "stream",
          "name": "stdout",
          "text": [
            "[0. 0. 0. 0. 0. 0. 0. 0. 0. 0.]\n"
          ]
        }
      ],
      "source": [
        "x=np.zeros(10)\n",
        "print(x)"
      ]
    },
    {
      "cell_type": "markdown",
      "metadata": {
        "id": "f5eLypQf8fHe"
      },
      "source": [
        "#### 4.  How to find the memory size of any array (★☆☆) \n",
        "(**hint**: size, itemsize)"
      ]
    },
    {
      "cell_type": "code",
      "execution_count": null,
      "metadata": {
        "id": "vfp8gj_c8fHf",
        "colab": {
          "base_uri": "https://localhost:8080/"
        },
        "outputId": "e8350ca0-cf47-44e3-d4cb-d204a63632b6"
      },
      "outputs": [
        {
          "output_type": "stream",
          "name": "stdout",
          "text": [
            "10\n",
            "8\n"
          ]
        }
      ],
      "source": [
        "print(x.size)\n",
        "print(x.itemsize)"
      ]
    },
    {
      "cell_type": "markdown",
      "metadata": {
        "id": "fG9WYd6I8fHf"
      },
      "source": [
        "#### 5.  How to get the documentation of the numpy add function from the command line? (★☆☆) \n",
        "(**hint**: np.info)"
      ]
    },
    {
      "cell_type": "code",
      "execution_count": null,
      "metadata": {
        "id": "JuYsDu2M8fHg",
        "colab": {
          "base_uri": "https://localhost:8080/"
        },
        "outputId": "826367d4-12f3-4df5-de02-2cf3859de215"
      },
      "outputs": [
        {
          "output_type": "stream",
          "name": "stdout",
          "text": [
            "add(x1, x2, /, out=None, *, where=True, casting='same_kind', order='K', dtype=None, subok=True[, signature, extobj])\n",
            "\n",
            "Add arguments element-wise.\n",
            "\n",
            "Parameters\n",
            "----------\n",
            "x1, x2 : array_like\n",
            "    The arrays to be added.\n",
            "    If ``x1.shape != x2.shape``, they must be broadcastable to a common\n",
            "    shape (which becomes the shape of the output).\n",
            "out : ndarray, None, or tuple of ndarray and None, optional\n",
            "    A location into which the result is stored. If provided, it must have\n",
            "    a shape that the inputs broadcast to. If not provided or None,\n",
            "    a freshly-allocated array is returned. A tuple (possible only as a\n",
            "    keyword argument) must have length equal to the number of outputs.\n",
            "where : array_like, optional\n",
            "    This condition is broadcast over the input. At locations where the\n",
            "    condition is True, the `out` array will be set to the ufunc result.\n",
            "    Elsewhere, the `out` array will retain its original value.\n",
            "    Note that if an uninitialized `out` array is created via the default\n",
            "    ``out=None``, locations within it where the condition is False will\n",
            "    remain uninitialized.\n",
            "**kwargs\n",
            "    For other keyword-only arguments, see the\n",
            "    :ref:`ufunc docs <ufuncs.kwargs>`.\n",
            "\n",
            "Returns\n",
            "-------\n",
            "add : ndarray or scalar\n",
            "    The sum of `x1` and `x2`, element-wise.\n",
            "    This is a scalar if both `x1` and `x2` are scalars.\n",
            "\n",
            "Notes\n",
            "-----\n",
            "Equivalent to `x1` + `x2` in terms of array broadcasting.\n",
            "\n",
            "Examples\n",
            "--------\n",
            ">>> np.add(1.0, 4.0)\n",
            "5.0\n",
            ">>> x1 = np.arange(9.0).reshape((3, 3))\n",
            ">>> x2 = np.arange(3.0)\n",
            ">>> np.add(x1, x2)\n",
            "array([[  0.,   2.,   4.],\n",
            "       [  3.,   5.,   7.],\n",
            "       [  6.,   8.,  10.]])\n",
            "\n",
            "The ``+`` operator can be used as a shorthand for ``np.add`` on ndarrays.\n",
            "\n",
            ">>> x1 = np.arange(9.0).reshape((3, 3))\n",
            ">>> x2 = np.arange(3.0)\n",
            ">>> x1 + x2\n",
            "array([[ 0.,  2.,  4.],\n",
            "       [ 3.,  5.,  7.],\n",
            "       [ 6.,  8., 10.]])\n"
          ]
        }
      ],
      "source": [
        "np.info(np.add)"
      ]
    },
    {
      "cell_type": "markdown",
      "metadata": {
        "id": "jQbdqOKo8fHg"
      },
      "source": [
        "#### 6.  Create a null vector of size 10 but the fifth value which is 1 (★☆☆) \n",
        "(**hint**: array\\[4\\])"
      ]
    },
    {
      "cell_type": "code",
      "execution_count": null,
      "metadata": {
        "id": "E1nYJChx8fHg",
        "colab": {
          "base_uri": "https://localhost:8080/"
        },
        "outputId": "b82b56ad-d0bc-4945-a7f2-7c17ddfc0036"
      },
      "outputs": [
        {
          "output_type": "stream",
          "name": "stdout",
          "text": [
            "[0. 0. 0. 0. 1. 0. 0. 0. 0. 0.]\n"
          ]
        }
      ],
      "source": [
        "x[4]=1\n",
        "print(x)"
      ]
    },
    {
      "cell_type": "markdown",
      "metadata": {
        "id": "QCGZZ8GU8fHh"
      },
      "source": [
        "#### 7.  Create a vector with values ranging from 10 to 49 (★☆☆) \n",
        "(**hint**: np.arange)"
      ]
    },
    {
      "cell_type": "code",
      "execution_count": null,
      "metadata": {
        "id": "3MQQJlg08fHh",
        "colab": {
          "base_uri": "https://localhost:8080/"
        },
        "outputId": "fe89470e-7e49-4ba5-d46c-a95467b4c127"
      },
      "outputs": [
        {
          "output_type": "stream",
          "name": "stdout",
          "text": [
            "[10 11 12 13 14 15 16 17 18 19 20 21 22 23 24 25 26 27 28 29 30 31 32 33\n",
            " 34 35 36 37 38 39 40 41 42 43 44 45 46 47 48 49]\n"
          ]
        }
      ],
      "source": [
        "print(np.arange(10,50))"
      ]
    },
    {
      "cell_type": "markdown",
      "metadata": {
        "id": "yrHN26af8fHh"
      },
      "source": [
        "#### 8.  Reverse a vector (first element becomes last) (★☆☆) \n",
        "(**hint**: array\\[::-1\\])"
      ]
    },
    {
      "cell_type": "code",
      "execution_count": null,
      "metadata": {
        "id": "09ttazIs8fHi",
        "colab": {
          "base_uri": "https://localhost:8080/"
        },
        "outputId": "5cb4b8d0-5af0-49a3-c0ab-2807cdb2a7e0"
      },
      "outputs": [
        {
          "output_type": "stream",
          "name": "stdout",
          "text": [
            "[9 8 7 6 5 4 3 2 1 0]\n"
          ]
        }
      ],
      "source": [
        "y  = np.arange(10)\n",
        "print(y[::-1])"
      ]
    },
    {
      "cell_type": "markdown",
      "metadata": {
        "id": "gC1Yz38K8fHi"
      },
      "source": [
        "#### 9.  Create a 3x3 matrix with values ranging from 0 to 8 (★☆☆) \n",
        "(**hint**: reshape)"
      ]
    },
    {
      "cell_type": "code",
      "execution_count": null,
      "metadata": {
        "id": "JCEu_hK88fHi",
        "colab": {
          "base_uri": "https://localhost:8080/"
        },
        "outputId": "9681b63a-9473-499c-f73b-0461573974b4"
      },
      "outputs": [
        {
          "output_type": "stream",
          "name": "stdout",
          "text": [
            "[[0 1 2]\n",
            " [3 4 5]\n",
            " [6 7 8]]\n"
          ]
        }
      ],
      "source": [
        "print(np.arange(9).reshape(3, 3))"
      ]
    },
    {
      "cell_type": "markdown",
      "metadata": {
        "id": "8XvJxFcn8fHi"
      },
      "source": [
        "#### 10. Find indices of non-zero elements from \\[1,2,0,0,4,0\\] (★☆☆) \n",
        "(**hint**: np.nonzero)"
      ]
    },
    {
      "cell_type": "code",
      "execution_count": null,
      "metadata": {
        "id": "gKZxLkRA8fHi",
        "colab": {
          "base_uri": "https://localhost:8080/"
        },
        "outputId": "dbde7401-2f2a-4942-d060-a39309e0faea"
      },
      "outputs": [
        {
          "output_type": "stream",
          "name": "stdout",
          "text": [
            "(array([0, 1, 4]),)\n"
          ]
        }
      ],
      "source": [
        "print(np.nonzero([1,2,0,0,4,0]))"
      ]
    },
    {
      "cell_type": "markdown",
      "metadata": {
        "id": "35Cfq-i-8fHj"
      },
      "source": [
        "#### 11. Create a 3x3 identity matrix (★☆☆) \n",
        "(**hint**: np.eye)"
      ]
    },
    {
      "cell_type": "code",
      "execution_count": null,
      "metadata": {
        "id": "32_azn8U8fHj",
        "colab": {
          "base_uri": "https://localhost:8080/"
        },
        "outputId": "906a6084-c2dd-4094-af92-9c980db03d74"
      },
      "outputs": [
        {
          "output_type": "stream",
          "name": "stdout",
          "text": [
            "[[1. 0. 0.]\n",
            " [0. 1. 0.]\n",
            " [0. 0. 1.]]\n"
          ]
        }
      ],
      "source": [
        "print(np.eye(3,3))"
      ]
    },
    {
      "cell_type": "markdown",
      "metadata": {
        "id": "PoACNFIx8fHj"
      },
      "source": [
        "#### 12. Create a 3x3x3 array with random values (★☆☆) \n",
        "(**hint**: np.random.random)"
      ]
    },
    {
      "cell_type": "code",
      "execution_count": null,
      "metadata": {
        "id": "fY2W0UUX8fHj",
        "colab": {
          "base_uri": "https://localhost:8080/"
        },
        "outputId": "85196a09-028f-41a5-d6d3-7061a49cdc0f"
      },
      "outputs": [
        {
          "output_type": "stream",
          "name": "stdout",
          "text": [
            "[[[0.69040498 0.97698557 0.7225732 ]\n",
            "  [0.43456753 0.66923205 0.61497911]\n",
            "  [0.81479369 0.77906469 0.43276186]]\n",
            "\n",
            " [[0.73594357 0.72658016 0.12893962]\n",
            "  [0.82392113 0.51731231 0.33900149]\n",
            "  [0.22276937 0.17092505 0.29479161]]\n",
            "\n",
            " [[0.32720717 0.76026057 0.34505382]\n",
            "  [0.70455185 0.39044127 0.36523653]\n",
            "  [0.71539807 0.16725662 0.77100292]]]\n"
          ]
        }
      ],
      "source": [
        "print(np.random.random((3,3,3)))"
      ]
    },
    {
      "cell_type": "markdown",
      "metadata": {
        "id": "vdLImNd88fHj"
      },
      "source": [
        "#### 13. Create a 10x10 array with random values and find the minimum and maximum values (★☆☆) \n",
        "(**hint**: min, max)"
      ]
    },
    {
      "cell_type": "code",
      "execution_count": null,
      "metadata": {
        "id": "3Ic6K-i08fHj",
        "colab": {
          "base_uri": "https://localhost:8080/"
        },
        "outputId": "bfaf8547-6ac1-4201-8bac-29469380162c"
      },
      "outputs": [
        {
          "output_type": "stream",
          "name": "stdout",
          "text": [
            "[[0.26756828 0.68860766 0.81784268 0.92378758 0.98664112 0.19578578\n",
            "  0.65845461 0.41167196 0.06129163 0.54954978]\n",
            " [0.38602132 0.67909999 0.33168413 0.56876433 0.15113104 0.52504135\n",
            "  0.63034948 0.24629158 0.39959655 0.99051384]\n",
            " [0.18256324 0.16372387 0.31586427 0.13981329 0.50515476 0.33717478\n",
            "  0.06714035 0.10789835 0.73970269 0.47735918]\n",
            " [0.40124124 0.52716602 0.66791167 0.85351876 0.72483512 0.28622646\n",
            "  0.83256049 0.75474506 0.63396014 0.98608541]\n",
            " [0.53802217 0.34554523 0.87014709 0.83409098 0.53078951 0.10888555\n",
            "  0.92821258 0.69442101 0.34555048 0.89616795]\n",
            " [0.88501145 0.44068046 0.09248711 0.77281491 0.64080463 0.96852223\n",
            "  0.43442695 0.16324777 0.52791466 0.70135889]\n",
            " [0.92541369 0.2122341  0.76244753 0.51289581 0.58625418 0.58762144\n",
            "  0.02556705 0.35464058 0.26788623 0.5698598 ]\n",
            " [0.39912012 0.22334525 0.93061128 0.27809926 0.47937547 0.86770029\n",
            "  0.33613691 0.78430728 0.10342319 0.43301048]\n",
            " [0.14816361 0.2385284  0.45455355 0.60962934 0.49311126 0.10750218\n",
            "  0.11252188 0.53154978 0.28837187 0.77689025]\n",
            " [0.39420764 0.32540527 0.09291533 0.08323752 0.96372606 0.42614553\n",
            "  0.80891595 0.02983372 0.80664507 0.14503731]]\n",
            "0.025567047458391 0.9905138355093276\n"
          ]
        }
      ],
      "source": [
        "a = np.random.random((10,10))\n",
        "print(a)\n",
        "print(a.min(),a.max())"
      ]
    },
    {
      "cell_type": "markdown",
      "metadata": {
        "id": "xvbaf-wU8fHk"
      },
      "source": [
        "#### 14. Create a random vector of size 30 and find the mean value (★☆☆) \n",
        "(**hint**: mean)"
      ]
    },
    {
      "cell_type": "code",
      "execution_count": null,
      "metadata": {
        "id": "q390Y55W8fHk",
        "colab": {
          "base_uri": "https://localhost:8080/"
        },
        "outputId": "fe89e181-ed75-455b-ce42-9d0fe1606d86"
      },
      "outputs": [
        {
          "output_type": "stream",
          "name": "stdout",
          "text": [
            "[0.29075783 0.25480389 0.97339417 0.64982526 0.4321824  0.34219375\n",
            " 0.9248309  0.57181862 0.67634691 0.54119871 0.26300503 0.05029559\n",
            " 0.89761016 0.41854    0.83026432 0.53131642 0.5436869  0.54550547\n",
            " 0.76075011 0.58698001 0.35087303 0.22735522 0.25784576 0.94387537\n",
            " 0.34510666 0.13812464 0.76897586 0.92778508 0.8652802  0.73974709]\n",
            "0.5550091787566328\n"
          ]
        }
      ],
      "source": [
        "b=np.random.random(30)\n",
        "print(b)\n",
        "print(b.mean())"
      ]
    },
    {
      "cell_type": "markdown",
      "metadata": {
        "id": "OzsFQEM48fHk"
      },
      "source": [
        "#### 15. Create a 2d array with 1 on the border and 0 inside (★☆☆) \n",
        "(**hint**: array\\[1:-1, 1:-1\\])"
      ]
    },
    {
      "cell_type": "code",
      "execution_count": null,
      "metadata": {
        "id": "arcjORiC8fHk",
        "colab": {
          "base_uri": "https://localhost:8080/"
        },
        "outputId": "290a22af-7ff5-4a2b-abba-d1945a1aea31"
      },
      "outputs": [
        {
          "output_type": "stream",
          "name": "stdout",
          "text": [
            "[[1. 1. 1. 1. 1. 1. 1. 1. 1. 1.]\n",
            " [1. 0. 0. 0. 0. 0. 0. 0. 0. 1.]\n",
            " [1. 0. 0. 0. 0. 0. 0. 0. 0. 1.]\n",
            " [1. 0. 0. 0. 0. 0. 0. 0. 0. 1.]\n",
            " [1. 0. 0. 0. 0. 0. 0. 0. 0. 1.]\n",
            " [1. 0. 0. 0. 0. 0. 0. 0. 0. 1.]\n",
            " [1. 0. 0. 0. 0. 0. 0. 0. 0. 1.]\n",
            " [1. 0. 0. 0. 0. 0. 0. 0. 0. 1.]\n",
            " [1. 0. 0. 0. 0. 0. 0. 0. 0. 1.]\n",
            " [1. 1. 1. 1. 1. 1. 1. 1. 1. 1.]]\n"
          ]
        }
      ],
      "source": [
        "c=np.ones((10,10))\n",
        "c[1:-1,1:-1] = 0\n",
        "print(c)"
      ]
    },
    {
      "cell_type": "markdown",
      "metadata": {
        "id": "tLWRYxjU8fHk"
      },
      "source": [
        "#### 16. How to add a border (filled with 0's) around an existing array? (★☆☆) \n",
        "(**hint**: np.pad)"
      ]
    },
    {
      "cell_type": "code",
      "execution_count": null,
      "metadata": {
        "id": "xUwXsPV58fHk",
        "colab": {
          "base_uri": "https://localhost:8080/"
        },
        "outputId": "eca27843-f474-41cb-e3df-b85468e05587"
      },
      "outputs": [
        {
          "output_type": "stream",
          "name": "stdout",
          "text": [
            "[[0. 0. 0. 0. 0. 0. 0.]\n",
            " [0. 1. 1. 1. 1. 1. 0.]\n",
            " [0. 1. 1. 1. 1. 1. 0.]\n",
            " [0. 1. 1. 1. 1. 1. 0.]\n",
            " [0. 1. 1. 1. 1. 1. 0.]\n",
            " [0. 1. 1. 1. 1. 1. 0.]\n",
            " [0. 0. 0. 0. 0. 0. 0.]]\n"
          ]
        }
      ],
      "source": [
        "d = np.ones((5,5))\n",
        "print(np.pad(d, pad_width=1, mode='constant', constant_values=0))"
      ]
    },
    {
      "cell_type": "markdown",
      "metadata": {
        "id": "NSgZZxl-8fHk"
      },
      "source": [
        "#### 17. What is the result of the following expression? (★☆☆) \n",
        "(**hint**: NaN = not a number, inf = infinity)"
      ]
    },
    {
      "cell_type": "markdown",
      "metadata": {
        "id": "NHh5uPve8fHl"
      },
      "source": [
        "```python\n",
        "0 * np.nan\n",
        "np.nan == np.nan\n",
        "np.inf > np.nan\n",
        "np.nan - np.nan\n",
        "0.3 == 3 * 0.1\n",
        "```"
      ]
    },
    {
      "cell_type": "markdown",
      "source": [
        "False"
      ],
      "metadata": {
        "id": "isROFrE6DfWy"
      }
    },
    {
      "cell_type": "markdown",
      "metadata": {
        "id": "8A836M818fHl"
      },
      "source": [
        "#### 18. Create a 5x5 matrix with values 1,2,3,4 just below the diagonal (★☆☆) \n",
        "(**hint**: np.diag)"
      ]
    },
    {
      "cell_type": "code",
      "execution_count": null,
      "metadata": {
        "id": "ZfuQysmY8fHl",
        "colab": {
          "base_uri": "https://localhost:8080/"
        },
        "outputId": "a74d52ba-e37b-47a0-d9be-901df69b49e3"
      },
      "outputs": [
        {
          "output_type": "stream",
          "name": "stdout",
          "text": [
            "[[0 0 0 0 0]\n",
            " [1 0 0 0 0]\n",
            " [0 2 0 0 0]\n",
            " [0 0 3 0 0]\n",
            " [0 0 0 4 0]]\n"
          ]
        }
      ],
      "source": [
        "print(np.diag(1+np.arange(4),k=-1))"
      ]
    },
    {
      "cell_type": "markdown",
      "metadata": {
        "id": "5aIc0Rcs8fHl"
      },
      "source": [
        "#### 19. Create a 8x8 matrix and fill it with a checkerboard pattern (★☆☆) \n",
        "(**hint**: array\\[::2\\])"
      ]
    },
    {
      "cell_type": "code",
      "execution_count": null,
      "metadata": {
        "id": "rJ_e7A_48fHm",
        "colab": {
          "base_uri": "https://localhost:8080/"
        },
        "outputId": "3112f2ee-6345-4167-85d2-937bd7144a43"
      },
      "outputs": [
        {
          "output_type": "stream",
          "name": "stdout",
          "text": [
            "[[0 1 0 1 0 1 0 1]\n",
            " [1 0 1 0 1 0 1 0]\n",
            " [0 1 0 1 0 1 0 1]\n",
            " [1 0 1 0 1 0 1 0]\n",
            " [0 1 0 1 0 1 0 1]\n",
            " [1 0 1 0 1 0 1 0]\n",
            " [0 1 0 1 0 1 0 1]\n",
            " [1 0 1 0 1 0 1 0]]\n"
          ]
        }
      ],
      "source": [
        "d=np.zeros((8,8),dtype=int)\n",
        "d[1::2,::2] = 1\n",
        "d[::2,1::2] = 1\n",
        "print(d)"
      ]
    },
    {
      "cell_type": "markdown",
      "metadata": {
        "id": "XusFSd0I8fHm"
      },
      "source": [
        "#### 20. Consider a (6,7,8) shape array, what is the index (x,y,z) of the 100th element? \n",
        "(**hint**: np.unravel_index)"
      ]
    },
    {
      "cell_type": "code",
      "execution_count": null,
      "metadata": {
        "id": "_Cs5qaWk8fHn",
        "colab": {
          "base_uri": "https://localhost:8080/"
        },
        "outputId": "47413570-7d36-493e-957a-20b0dd578eca"
      },
      "outputs": [
        {
          "output_type": "stream",
          "name": "stdout",
          "text": [
            "(1, 5, 3)\n"
          ]
        }
      ],
      "source": [
        "print(np.unravel_index(99,(6,7,8)))"
      ]
    },
    {
      "cell_type": "markdown",
      "metadata": {
        "id": "slLhpXo78fHo"
      },
      "source": [
        "#### 21. Create a checkerboard 8x8 matrix using the tile function (★☆☆) \n",
        "(**hint**: np.tile)"
      ]
    },
    {
      "cell_type": "code",
      "execution_count": null,
      "metadata": {
        "id": "Jy0kxlbc8fHo",
        "colab": {
          "base_uri": "https://localhost:8080/"
        },
        "outputId": "bb15c143-5574-4153-b184-5160adefc1b6"
      },
      "outputs": [
        {
          "output_type": "stream",
          "name": "stdout",
          "text": [
            "[[0 1 0 1 0 1 0 1]\n",
            " [1 0 1 0 1 0 1 0]\n",
            " [0 1 0 1 0 1 0 1]\n",
            " [1 0 1 0 1 0 1 0]\n",
            " [0 1 0 1 0 1 0 1]\n",
            " [1 0 1 0 1 0 1 0]\n",
            " [0 1 0 1 0 1 0 1]\n",
            " [1 0 1 0 1 0 1 0]]\n"
          ]
        }
      ],
      "source": [
        "print(np.tile( np.array([[0,1],[1,0]]), (4,4)))"
      ]
    },
    {
      "cell_type": "markdown",
      "metadata": {
        "id": "eJtApcPa8fHo"
      },
      "source": [
        "#### 22. Normalize a 5x5 random matrix (★☆☆) \n",
        "(**hint**: (x - min) / (max - min))"
      ]
    },
    {
      "cell_type": "code",
      "execution_count": null,
      "metadata": {
        "id": "QhTRF1Vz8fHo",
        "colab": {
          "base_uri": "https://localhost:8080/"
        },
        "outputId": "66601341-b5b0-4094-a0dc-6daecb39b0e9"
      },
      "outputs": [
        {
          "output_type": "stream",
          "name": "stdout",
          "text": [
            "[[ 1.55220189  0.59992476 -0.58713051 -0.30953992 -0.27379878]\n",
            " [-0.8373379   1.06292888 -1.03197289  0.93157     1.08570842]\n",
            " [-0.09817793 -1.56987803  0.23381039 -1.36897088  0.94700988]\n",
            " [-1.54159138 -0.44189878  1.37188107  0.85290486  0.11512669]\n",
            " [-0.33730608 -1.35789003  1.26366148 -1.29033271  1.02909752]]\n"
          ]
        }
      ],
      "source": [
        "f = np.random.random((5,5))\n",
        "g = (f - np.mean (f)) / (np.std (f))\n",
        "print(g)"
      ]
    },
    {
      "cell_type": "markdown",
      "metadata": {
        "id": "f9OMB1EB8fHo"
      },
      "source": [
        "#### 23. Create a custom dtype that describes a color as four unsigned bytes (RGBA) (★☆☆) \n",
        "(**hint**: np.dtype)"
      ]
    },
    {
      "cell_type": "code",
      "execution_count": null,
      "metadata": {
        "id": "9nkbXwVT8fHp",
        "colab": {
          "base_uri": "https://localhost:8080/"
        },
        "outputId": "7dd1b00d-c514-4f6a-9b6d-97a6e3fece2f"
      },
      "outputs": [
        {
          "output_type": "stream",
          "name": "stdout",
          "text": [
            "[('r', 'u1'), ('g', 'u1'), ('b', 'u1'), ('a', 'u1')]\n"
          ]
        }
      ],
      "source": [
        "color = np.dtype([(\"r\", np.ubyte),\n",
        "                  (\"g\", np.ubyte),\n",
        "                  (\"b\", np.ubyte),\n",
        "                  (\"a\", np.ubyte)])\n",
        "print(color)"
      ]
    },
    {
      "cell_type": "markdown",
      "metadata": {
        "id": "AQxnSC6x8fHp"
      },
      "source": [
        "#### 24. Multiply a 5x3 matrix by a 3x2 matrix (real matrix product) (★☆☆) \n",
        "(**hint**: np.dot | @)"
      ]
    },
    {
      "cell_type": "code",
      "execution_count": 75,
      "metadata": {
        "id": "E6w4fvU48fHp",
        "colab": {
          "base_uri": "https://localhost:8080/"
        },
        "outputId": "35d01876-bc5c-4ddb-9063-6d5379ccc47d"
      },
      "outputs": [
        {
          "output_type": "stream",
          "name": "stdout",
          "text": [
            "[[3. 3.]\n",
            " [3. 3.]\n",
            " [3. 3.]\n",
            " [3. 3.]\n",
            " [3. 3.]]\n",
            "[[3. 3.]\n",
            " [3. 3.]\n",
            " [3. 3.]\n",
            " [3. 3.]\n",
            " [3. 3.]]\n"
          ]
        }
      ],
      "source": [
        "print(np.dot(np.ones((5,3)), np.ones((3,2))))\n",
        "print(np.ones((5,3)) @ np.ones((3,2)))"
      ]
    },
    {
      "cell_type": "markdown",
      "metadata": {
        "id": "6mVj_HeF8fHp"
      },
      "source": [
        "#### 25. Given a 1D array, negate all elements which are between 3 and 8, in place. (★☆☆) \n",
        "(**hint**: >, <=)"
      ]
    },
    {
      "cell_type": "code",
      "execution_count": null,
      "metadata": {
        "id": "aI2cki1S8fHq",
        "colab": {
          "base_uri": "https://localhost:8080/"
        },
        "outputId": "2179f93a-40f5-4c45-a6af-7c554062c343"
      },
      "outputs": [
        {
          "output_type": "stream",
          "name": "stdout",
          "text": [
            "[ 0  1  2  3 -4 -5 -6 -7  8  9 10]\n"
          ]
        }
      ],
      "source": [
        "h= np.arange(11)\n",
        "h[(3 < h) & (h <= 7)] *= -1\n",
        "print(h)"
      ]
    },
    {
      "cell_type": "markdown",
      "metadata": {
        "id": "pkD9Xv6j8fHq"
      },
      "source": [
        "#### 26. What is the output of the following script? (★☆☆) \n",
        "(**hint**: np.sum)"
      ]
    },
    {
      "cell_type": "markdown",
      "metadata": {
        "id": "i7gaHo058fHq"
      },
      "source": [
        "```python\n",
        "# Author: Jake VanderPlas\n",
        "\n",
        "print(sum(range(5),-1))\n",
        "from numpy import *\n",
        "print(sum(range(5),-1))\n",
        "```"
      ]
    },
    {
      "cell_type": "markdown",
      "source": [
        "output\n",
        "#####9\n",
        "10"
      ],
      "metadata": {
        "id": "mWhs-EJvH4c-"
      }
    },
    {
      "cell_type": "markdown",
      "metadata": {
        "id": "Dn4S_Fqp8fHq"
      },
      "source": [
        "#### 27. Consider an integer vector Z, which of these expressions are legal? (★☆☆)"
      ]
    },
    {
      "cell_type": "markdown",
      "metadata": {
        "id": "UWgHr8W28fHq"
      },
      "source": [
        "```python\n",
        "Z**Z          - legal\n",
        "2 << Z >> 2   - not legal\n",
        "Z <- Z        - legal\n",
        "1j*Z          - legal\n",
        "Z/1/1         - legal\n",
        "Z<Z>Z         - not legal\n",
        "```"
      ]
    },
    {
      "cell_type": "markdown",
      "metadata": {
        "id": "dGvpBqxM8fHr"
      },
      "source": [
        "#### 28. What are the result of the following expressions?"
      ]
    },
    {
      "cell_type": "markdown",
      "metadata": {
        "id": "HYywvoHy8fHr"
      },
      "source": [
        "```python\n",
        "np.array(0) / np.array(0)                   - nan\n",
        "np.array(0) // np.array(0)                  - 0\n",
        "np.array([np.nan]).astype(int).astype(float)- array([-9.22337204e+18])\n",
        "```"
      ]
    },
    {
      "cell_type": "markdown",
      "metadata": {
        "id": "-Jt5Wj_V8fHr"
      },
      "source": [
        "#### 29. How to round away from zero a float array ? (★☆☆) \n",
        "(**hint**: np.uniform, np.copysign, np.ceil, np.abs)"
      ]
    },
    {
      "cell_type": "code",
      "execution_count": null,
      "metadata": {
        "id": "IZ9ft7XB8fHr",
        "colab": {
          "base_uri": "https://localhost:8080/"
        },
        "outputId": "2995b251-b563-4281-fb0b-0008b023f1d7"
      },
      "outputs": [
        {
          "output_type": "stream",
          "name": "stdout",
          "text": [
            "[ -5.  -6.  -7. -10.  -9.  -8.  -7.  10.  -1.   1.]\n"
          ]
        }
      ],
      "source": [
        "i = np.random.uniform(-10,10,10)\n",
        "print(np.copysign(np.ceil(np.abs(i)), i))"
      ]
    },
    {
      "cell_type": "markdown",
      "metadata": {
        "id": "wv-_xSjF8fHr"
      },
      "source": [
        "#### 30. How to find common values between two arrays? (★☆☆) \n",
        "(**hint**: np.intersect1d)"
      ]
    },
    {
      "cell_type": "code",
      "execution_count": null,
      "metadata": {
        "id": "QtTWvYIO8fHr",
        "colab": {
          "base_uri": "https://localhost:8080/"
        },
        "outputId": "36e58585-2df3-4516-e91a-21d7793ce11a"
      },
      "outputs": [
        {
          "output_type": "stream",
          "name": "stdout",
          "text": [
            "[0 6 1 6 6 2 9 1 2 9]\n",
            "[8 3 7 1 1 4 2 2 0 4]\n",
            "[0 1 2]\n"
          ]
        }
      ],
      "source": [
        "a = np.random.randint(0,10,10)\n",
        "print(a)\n",
        "b = np.random.randint(0,10,10)\n",
        "print(b)\n",
        "print(np.intersect1d(a,b))"
      ]
    },
    {
      "cell_type": "markdown",
      "metadata": {
        "id": "Qx1OEruu8fHr"
      },
      "source": [
        "#### 31. How to ignore all numpy warnings (not recommended)? (★☆☆) \n",
        "(**hint**: np.seterr, np.errstate)"
      ]
    },
    {
      "cell_type": "code",
      "execution_count": 73,
      "metadata": {
        "id": "nbtd1A4U8fHs"
      },
      "outputs": [],
      "source": [
        "defaults = np.seterr(all=\"ignore\")\n",
        "Z = np.ones(1) / 0\n",
        "\n",
        "_ = np.seterr(**defaults)\n",
        "\n",
        "with np.errstate(all=\"ignore\"):\n",
        "    np.arange(3) / 0"
      ]
    },
    {
      "cell_type": "markdown",
      "metadata": {
        "id": "K66JtkLa8fHs"
      },
      "source": [
        "#### 32. Is the following expressions true? (★☆☆) \n",
        "(**hint**: imaginary number)"
      ]
    },
    {
      "cell_type": "markdown",
      "metadata": {
        "id": "5GbzXqyM8fHs"
      },
      "source": [
        "```python\n",
        "np.sqrt(-1) == np.emath.sqrt(-1)   - False\n",
        "```"
      ]
    },
    {
      "cell_type": "markdown",
      "metadata": {
        "id": "_DRuxEVD8fHs"
      },
      "source": [
        "#### 33. How to get the dates of yesterday, today and tomorrow? (★☆☆) \n",
        "(**hint**: np.datetime64, np.timedelta64)"
      ]
    },
    {
      "cell_type": "code",
      "execution_count": null,
      "metadata": {
        "collapsed": true,
        "id": "mrayqiZz8fHs",
        "colab": {
          "base_uri": "https://localhost:8080/"
        },
        "outputId": "e5cfdc59-00f6-4d23-b944-81648b9dd09d"
      },
      "outputs": [
        {
          "output_type": "stream",
          "name": "stdout",
          "text": [
            "2022-08-16 2022-08-17 2022-08-18\n"
          ]
        }
      ],
      "source": [
        "y = np.datetime64('today') - np.timedelta64(1)\n",
        "t = np.datetime64('today')\n",
        "t1= np.datetime64('today') + np.timedelta64(1)\n",
        "\n",
        "print(y,t,t1)"
      ]
    },
    {
      "cell_type": "markdown",
      "metadata": {
        "id": "XxVCELZn8fHs"
      },
      "source": [
        "#### 34. How to get all the dates corresponding to the month of July 2016? (★★☆) \n",
        "(**hint**: np.arange(dtype=datetime64\\['D'\\]))"
      ]
    },
    {
      "cell_type": "code",
      "execution_count": null,
      "metadata": {
        "id": "uPsoo3kP8fHs",
        "colab": {
          "base_uri": "https://localhost:8080/"
        },
        "outputId": "83109e3e-cb6e-430c-af26-0068182b7230"
      },
      "outputs": [
        {
          "output_type": "stream",
          "name": "stdout",
          "text": [
            "['2016-07-01' '2016-07-02' '2016-07-03' '2016-07-04' '2016-07-05'\n",
            " '2016-07-06' '2016-07-07' '2016-07-08' '2016-07-09' '2016-07-10'\n",
            " '2016-07-11' '2016-07-12' '2016-07-13' '2016-07-14' '2016-07-15'\n",
            " '2016-07-16' '2016-07-17' '2016-07-18' '2016-07-19' '2016-07-20'\n",
            " '2016-07-21' '2016-07-22' '2016-07-23' '2016-07-24' '2016-07-25'\n",
            " '2016-07-26' '2016-07-27' '2016-07-28' '2016-07-29' '2016-07-30'\n",
            " '2016-07-31']\n"
          ]
        }
      ],
      "source": [
        "print(np.arange('2016-07', '2016-08', dtype='datetime64[D]'))"
      ]
    },
    {
      "cell_type": "markdown",
      "metadata": {
        "id": "EnquafCT8fHt"
      },
      "source": [
        "#### 35. How to compute ((A+B)\\*(-A/2)) in place (without copy)? (★★☆) \n",
        "(**hint**: np.add(out=), np.negative(out=), np.multiply(out=), np.divide(out=))"
      ]
    },
    {
      "cell_type": "code",
      "execution_count": null,
      "metadata": {
        "id": "p0ud5r648fHt",
        "colab": {
          "base_uri": "https://localhost:8080/"
        },
        "outputId": "6648efdb-14b4-43a7-836a-32eed7e26ddb"
      },
      "outputs": [
        {
          "output_type": "execute_result",
          "data": {
            "text/plain": [
              "array([-1., -1., -1., -1.])"
            ]
          },
          "metadata": {},
          "execution_count": 38
        }
      ],
      "source": [
        "A = np.ones(4)\n",
        "B = np.ones(4)\n",
        "np.add(A,B,out=B)\n",
        "np.divide(A,2,out=A)\n",
        "np.negative(A,out=A)\n",
        "np.multiply(A,B,out=A)"
      ]
    },
    {
      "cell_type": "markdown",
      "metadata": {
        "id": "cE33kYH88fHt"
      },
      "source": [
        "#### 36. Extract the integer part of a random array using 5 different methods (★★☆) \n",
        "(**hint**: %, np.floor, np.ceil, astype, np.trunc)"
      ]
    },
    {
      "cell_type": "code",
      "execution_count": 71,
      "metadata": {
        "id": "9FQ8JDhG8fHt",
        "colab": {
          "base_uri": "https://localhost:8080/"
        },
        "outputId": "55302c80-102b-44f6-d9e2-41d2211b6ab4"
      },
      "outputs": [
        {
          "output_type": "stream",
          "name": "stdout",
          "text": [
            "[4. 6. 5. 4. 3. 9. 7. 1. 5. 6.]\n",
            "[4. 6. 5. 4. 3. 9. 7. 1. 5. 6.]\n",
            "[4. 6. 5. 4. 3. 9. 7. 1. 5. 6.]\n",
            "[ 5.  7.  6.  5.  4. 10.  8.  2.  6.  7.]\n",
            "[4 6 5 4 3 9 7 1 5 6]\n",
            "[4. 6. 5. 4. 3. 9. 7. 1. 5. 6.]\n"
          ]
        }
      ],
      "source": [
        "a= np.random.uniform(0,10,10)\n",
        "\n",
        "print(a - a%1)\n",
        "print(a // 1)\n",
        "print(np.floor(a))\n",
        "print(np.ceil(a))\n",
        "print(a.astype(int))\n",
        "print(np.trunc(a))"
      ]
    },
    {
      "cell_type": "markdown",
      "metadata": {
        "id": "QSnGPrGz8fHt"
      },
      "source": [
        "#### 37. Create a 5x5 matrix with row values ranging from 0 to 4 (★★☆) \n",
        "(**hint**: np.arange)"
      ]
    },
    {
      "cell_type": "code",
      "execution_count": null,
      "metadata": {
        "id": "77asVu5h8fHt",
        "colab": {
          "base_uri": "https://localhost:8080/"
        },
        "outputId": "dded7c23-9b0f-4be5-995d-e4a83f97fd72"
      },
      "outputs": [
        {
          "output_type": "stream",
          "name": "stdout",
          "text": [
            "[[0 1 2 3 4]\n",
            " [0 1 2 3 4]\n",
            " [0 1 2 3 4]\n",
            " [0 1 2 3 4]\n",
            " [0 1 2 3 4]]\n"
          ]
        }
      ],
      "source": [
        "print(np.tile(np.arange(0, 5), (5,1)))"
      ]
    },
    {
      "cell_type": "markdown",
      "metadata": {
        "id": "VacAeg3e8fHt"
      },
      "source": [
        "#### 38. Consider a generator function that generates 10 integers and use it to build an array (★☆☆) \n",
        "(**hint**: np.fromiter)"
      ]
    },
    {
      "cell_type": "code",
      "execution_count": null,
      "metadata": {
        "id": "zztVYihL8fHt",
        "colab": {
          "base_uri": "https://localhost:8080/"
        },
        "outputId": "4880082e-2cfd-423c-a8c1-3c4828d23b59"
      },
      "outputs": [
        {
          "output_type": "stream",
          "name": "stdout",
          "text": [
            "[0. 1. 2. 3. 4. 5. 6. 7. 8. 9.]\n"
          ]
        }
      ],
      "source": [
        "def generate():\n",
        "    for i in range(10):\n",
        "        yield i\n",
        "a = np.fromiter(generate(),dtype=float,count=-1)\n",
        "print(a)"
      ]
    },
    {
      "cell_type": "markdown",
      "metadata": {
        "id": "2D-tt3Qa8fHt"
      },
      "source": [
        "#### 39. Create a vector of size 10 with values ranging from 0 to 1, both excluded (★★☆) \n",
        "(**hint**: np.linspace)"
      ]
    },
    {
      "cell_type": "code",
      "execution_count": null,
      "metadata": {
        "id": "E9m_-ZaL8fHu",
        "colab": {
          "base_uri": "https://localhost:8080/"
        },
        "outputId": "b313fd19-92b1-4eb9-dcdf-93a33f6f9251"
      },
      "outputs": [
        {
          "output_type": "stream",
          "name": "stdout",
          "text": [
            "[0.09090909 0.18181818 0.27272727 0.36363636 0.45454545 0.54545455\n",
            " 0.63636364 0.72727273 0.81818182 0.90909091]\n"
          ]
        }
      ],
      "source": [
        "print(np.linspace(0,1,11,endpoint=False)[1:])"
      ]
    },
    {
      "cell_type": "markdown",
      "metadata": {
        "id": "vIQM2Ura8fHu"
      },
      "source": [
        "#### 40. Create a random vector of size 10 and sort it (★★☆) \n",
        "(**hint**: sort)"
      ]
    },
    {
      "cell_type": "code",
      "execution_count": null,
      "metadata": {
        "id": "uez0F-Sl8fHu",
        "colab": {
          "base_uri": "https://localhost:8080/"
        },
        "outputId": "77f0432c-87ff-41a1-9050-47d5bbcba5bb"
      },
      "outputs": [
        {
          "output_type": "stream",
          "name": "stdout",
          "text": [
            "[0.07806835 0.18132969 0.24327528 0.26154523 0.29566172 0.37920989\n",
            " 0.56552508 0.57156027 0.68979886 0.80069291]\n"
          ]
        }
      ],
      "source": [
        "x=np.random.random(10)\n",
        "x.sort()\n",
        "print(x)"
      ]
    },
    {
      "cell_type": "markdown",
      "metadata": {
        "id": "BybEUeUP8fHu"
      },
      "source": [
        "#### 41. How to sum a small array faster than np.sum? (★★☆) \n",
        "(**hint**: np.add.reduce)"
      ]
    },
    {
      "cell_type": "code",
      "execution_count": null,
      "metadata": {
        "id": "2euQhkFl8fHu",
        "colab": {
          "base_uri": "https://localhost:8080/"
        },
        "outputId": "32a6f665-9c05-47e5-f37c-6d27da5383bf"
      },
      "outputs": [
        {
          "output_type": "execute_result",
          "data": {
            "text/plain": [
              "45"
            ]
          },
          "metadata": {},
          "execution_count": 49
        }
      ],
      "source": [
        "a=np.arange(10)\n",
        "np.add.reduce(a)"
      ]
    },
    {
      "cell_type": "markdown",
      "metadata": {
        "id": "Zz_oMYYF8fHu"
      },
      "source": [
        "#### 42. Consider two random array A and B, check if they are equal (★★☆) \n",
        "(**hint**: np.allclose, np.array\\_equal)"
      ]
    },
    {
      "cell_type": "code",
      "execution_count": null,
      "metadata": {
        "id": "q6u6B7aO8fHu",
        "colab": {
          "base_uri": "https://localhost:8080/"
        },
        "outputId": "9032f39d-83bb-4124-9623-670759809502"
      },
      "outputs": [
        {
          "output_type": "stream",
          "name": "stdout",
          "text": [
            "False\n",
            "False\n"
          ]
        }
      ],
      "source": [
        "A = np.random.randint(0,2,5)\n",
        "B = np.random.randint(0,2,5)\n",
        "equal = np.allclose(A,B)\n",
        "print(equal)\n",
        "\n",
        "equal = np.array_equal(A,B)\n",
        "print(equal)"
      ]
    },
    {
      "cell_type": "markdown",
      "metadata": {
        "id": "O1SGG3a_8fHu"
      },
      "source": [
        "#### 43. Make an array immutable (read-only) (★★☆) \n",
        "(**hint**: flags.writeable)"
      ]
    },
    {
      "cell_type": "code",
      "execution_count": 70,
      "metadata": {
        "id": "45pFoXrU8fHv",
        "colab": {
          "base_uri": "https://localhost:8080/",
          "height": 201
        },
        "outputId": "0c08ce5b-8f8b-4d71-9bcb-bf3a520ebede"
      },
      "outputs": [
        {
          "output_type": "error",
          "ename": "ValueError",
          "evalue": "ignored",
          "traceback": [
            "\u001b[0;31m---------------------------------------------------------------------------\u001b[0m",
            "\u001b[0;31mValueError\u001b[0m                                Traceback (most recent call last)",
            "\u001b[0;32m<ipython-input-70-dcc5e7f145b5>\u001b[0m in \u001b[0;36m<module>\u001b[0;34m\u001b[0m\n\u001b[1;32m      1\u001b[0m \u001b[0mZ\u001b[0m \u001b[0;34m=\u001b[0m \u001b[0mnp\u001b[0m\u001b[0;34m.\u001b[0m\u001b[0mzeros\u001b[0m\u001b[0;34m(\u001b[0m\u001b[0;36m10\u001b[0m\u001b[0;34m)\u001b[0m\u001b[0;34m\u001b[0m\u001b[0;34m\u001b[0m\u001b[0m\n\u001b[1;32m      2\u001b[0m \u001b[0mZ\u001b[0m\u001b[0;34m.\u001b[0m\u001b[0mflags\u001b[0m\u001b[0;34m.\u001b[0m\u001b[0mwriteable\u001b[0m \u001b[0;34m=\u001b[0m \u001b[0;32mFalse\u001b[0m\u001b[0;34m\u001b[0m\u001b[0;34m\u001b[0m\u001b[0m\n\u001b[0;32m----> 3\u001b[0;31m \u001b[0mZ\u001b[0m\u001b[0;34m[\u001b[0m\u001b[0;36m0\u001b[0m\u001b[0;34m]\u001b[0m \u001b[0;34m=\u001b[0m \u001b[0;36m1\u001b[0m\u001b[0;34m\u001b[0m\u001b[0;34m\u001b[0m\u001b[0m\n\u001b[0m",
            "\u001b[0;31mValueError\u001b[0m: assignment destination is read-only"
          ]
        }
      ],
      "source": [
        "Z = np.zeros(10)\n",
        "Z.flags.writeable = False\n",
        "Z[0] = 1"
      ]
    },
    {
      "cell_type": "markdown",
      "metadata": {
        "id": "VoAljh_e8fHv"
      },
      "source": [
        "#### 44. Consider a random 10x2 matrix representing cartesian coordinates, convert them to polar coordinates (★★☆) \n",
        "(**hint**: np.sqrt, np.arctan2)"
      ]
    },
    {
      "cell_type": "code",
      "execution_count": null,
      "metadata": {
        "id": "otqGyK_K8fHv",
        "colab": {
          "base_uri": "https://localhost:8080/"
        },
        "outputId": "72360fff-f9ff-4537-84a3-7f22f41b7c70"
      },
      "outputs": [
        {
          "output_type": "stream",
          "name": "stdout",
          "text": [
            "[0.92663281 0.2484762  0.21987274 0.53741418 0.18476893 1.07104697\n",
            " 0.23104033 0.34860894 0.49424273 0.83533167]\n",
            "[0.45844888 0.77210234 0.40715347 0.72695713 0.98099067 1.04847296\n",
            " 1.07449042 0.7276131  1.43961396 1.31828042]\n"
          ]
        }
      ],
      "source": [
        "Z = np.random.random((10,2))\n",
        "X,Y = Z[:,0], Z[:,1]\n",
        "R = np.sqrt(X**2+Y**2)\n",
        "T = np.arctan2(Y,X)\n",
        "print(R)\n",
        "print(T)"
      ]
    },
    {
      "cell_type": "markdown",
      "metadata": {
        "id": "8SB0IgHU8fHv"
      },
      "source": [
        "#### 45. Create random vector of size 10 and replace the maximum value by 0 (★★☆) \n",
        "(**hint**: argmax)"
      ]
    },
    {
      "cell_type": "code",
      "execution_count": null,
      "metadata": {
        "id": "GkBLWOXs8fHv",
        "colab": {
          "base_uri": "https://localhost:8080/"
        },
        "outputId": "78ea8f33-da44-4f0a-baea-92938c601d1b"
      },
      "outputs": [
        {
          "output_type": "stream",
          "name": "stdout",
          "text": [
            "[0.14942271 0.80721992 0.37534241 0.85849095 0.83199901 0.50266203\n",
            " 0.45640213 0.         0.06174855 0.83251277]\n"
          ]
        }
      ],
      "source": [
        "Z = np.random.random(10)\n",
        "Z[Z.argmax()] = 0\n",
        "print(Z)"
      ]
    },
    {
      "cell_type": "markdown",
      "metadata": {
        "id": "sEO1mvEU8fHv"
      },
      "source": [
        "#### 46. Create a structured array with `x` and `y` coordinates covering the \\[0,1\\]x\\[0,1\\] area (★★☆) \n",
        "(**hint**: np.meshgrid)"
      ]
    },
    {
      "cell_type": "code",
      "execution_count": null,
      "metadata": {
        "id": "n4BHYSd78fHv",
        "colab": {
          "base_uri": "https://localhost:8080/"
        },
        "outputId": "12cf23bb-3a02-4a38-8d5a-f62c738d9109"
      },
      "outputs": [
        {
          "output_type": "stream",
          "name": "stdout",
          "text": [
            "[[(0.  , 0.  ) (0.25, 0.  ) (0.5 , 0.  ) (0.75, 0.  ) (1.  , 0.  )]\n",
            " [(0.  , 0.25) (0.25, 0.25) (0.5 , 0.25) (0.75, 0.25) (1.  , 0.25)]\n",
            " [(0.  , 0.5 ) (0.25, 0.5 ) (0.5 , 0.5 ) (0.75, 0.5 ) (1.  , 0.5 )]\n",
            " [(0.  , 0.75) (0.25, 0.75) (0.5 , 0.75) (0.75, 0.75) (1.  , 0.75)]\n",
            " [(0.  , 1.  ) (0.25, 1.  ) (0.5 , 1.  ) (0.75, 1.  ) (1.  , 1.  )]]\n"
          ]
        }
      ],
      "source": [
        "Z = np.zeros((5,5), [('x',float),('y',float)])\n",
        "Z['x'], Z['y'] = np.meshgrid(np.linspace(0,1,5),\n",
        "                             np.linspace(0,1,5))\n",
        "print(Z)"
      ]
    },
    {
      "cell_type": "markdown",
      "metadata": {
        "id": "ZoEvK9H-8fHv"
      },
      "source": [
        "####  47. Given two arrays, X and Y, construct the Cauchy matrix C (Cij =1/(xi - yj)) \n",
        "(**hint**: np.subtract.outer)"
      ]
    },
    {
      "cell_type": "code",
      "execution_count": null,
      "metadata": {
        "id": "TJXq18Ln8fHv",
        "colab": {
          "base_uri": "https://localhost:8080/"
        },
        "outputId": "6be94d2a-3a6b-4f20-9138-41886f433d6e"
      },
      "outputs": [
        {
          "output_type": "stream",
          "name": "stdout",
          "text": [
            "3638.163637117973\n"
          ]
        }
      ],
      "source": [
        "X = np.arange(8)\n",
        "Y = X + 0.5\n",
        "C = 1.0 / np.subtract.outer(X, Y)\n",
        "print(np.linalg.det(C))"
      ]
    },
    {
      "cell_type": "markdown",
      "metadata": {
        "id": "3IPkd9J-8fHw"
      },
      "source": [
        "#### 48. Print the minimum and maximum representable value for each numpy scalar type (★★☆) \n",
        "(**hint**: np.iinfo, np.finfo, eps)"
      ]
    },
    {
      "cell_type": "code",
      "execution_count": null,
      "metadata": {
        "id": "AZXfCsPC8fHw",
        "colab": {
          "base_uri": "https://localhost:8080/"
        },
        "outputId": "2e8d2d2f-33d3-495f-cd65-0f92321bb027"
      },
      "outputs": [
        {
          "output_type": "stream",
          "name": "stdout",
          "text": [
            "-128\n",
            "127\n",
            "-2147483648\n",
            "2147483647\n",
            "-9223372036854775808\n",
            "9223372036854775807\n",
            "-3.4028235e+38\n",
            "3.4028235e+38\n",
            "1.1920929e-07\n",
            "-1.7976931348623157e+308\n",
            "1.7976931348623157e+308\n",
            "2.220446049250313e-16\n"
          ]
        }
      ],
      "source": [
        "for dtype in [np.int8, np.int32, np.int64]:\n",
        "   print(np.iinfo(dtype).min)\n",
        "   print(np.iinfo(dtype).max)\n",
        "for dtype in [np.float32, np.float64]:\n",
        "   print(np.finfo(dtype).min)\n",
        "   print(np.finfo(dtype).max)\n",
        "   print(np.finfo(dtype).eps)"
      ]
    },
    {
      "cell_type": "markdown",
      "metadata": {
        "id": "BpkZnORf8fHw"
      },
      "source": [
        "#### 49. How to print all the values of an array? (★★☆) \n",
        "(**hint**: np.set\\_printoptions)"
      ]
    },
    {
      "cell_type": "code",
      "execution_count": null,
      "metadata": {
        "id": "LsBWLBuS8fHw",
        "colab": {
          "base_uri": "https://localhost:8080/"
        },
        "outputId": "84e4b728-dcc8-41b2-e882-6664afcd8d4f"
      },
      "outputs": [
        {
          "output_type": "stream",
          "name": "stdout",
          "text": [
            "[[0. 0. 0. 0. 0.]\n",
            " [0. 0. 0. 0. 0.]\n",
            " [0. 0. 0. 0. 0.]\n",
            " [0. 0. 0. 0. 0.]\n",
            " [0. 0. 0. 0. 0.]]\n"
          ]
        }
      ],
      "source": [
        "np.set_printoptions(threshold=float(\"inf\"))\n",
        "Z = np.zeros((5,5))\n",
        "print(Z)"
      ]
    },
    {
      "cell_type": "markdown",
      "metadata": {
        "id": "seWzsLf98fHw"
      },
      "source": [
        "#### 50. How to find the closest value (to a given scalar) in a vector? (★★☆) \n",
        "(**hint**: argmin)"
      ]
    },
    {
      "cell_type": "code",
      "execution_count": null,
      "metadata": {
        "id": "EM6ueAZT8fHw",
        "colab": {
          "base_uri": "https://localhost:8080/"
        },
        "outputId": "f46e7604-1321-480f-ec3f-e6d74dffe79b"
      },
      "outputs": [
        {
          "output_type": "stream",
          "name": "stdout",
          "text": [
            "18\n"
          ]
        }
      ],
      "source": [
        "Z = np.arange(100)\n",
        "v = np.random.uniform(0,100)\n",
        "index = (np.abs(Z-v)).argmin()\n",
        "print(Z[index])"
      ]
    },
    {
      "cell_type": "markdown",
      "metadata": {
        "id": "dRlPrgdS8fHw"
      },
      "source": [
        "#### 51. Create a structured array representing a position (x,y) and a color (r,g,b) (★★☆) \n",
        "(**hint**: dtype)"
      ]
    },
    {
      "cell_type": "code",
      "execution_count": null,
      "metadata": {
        "id": "SL5IydMx8fHw",
        "colab": {
          "base_uri": "https://localhost:8080/"
        },
        "outputId": "e91c87d0-a9a1-4706-a980-4083c480de2c"
      },
      "outputs": [
        {
          "output_type": "stream",
          "name": "stdout",
          "text": [
            "[((0., 0.), (0., 0., 0.)) ((0., 0.), (0., 0., 0.))\n",
            " ((0., 0.), (0., 0., 0.)) ((0., 0.), (0., 0., 0.))\n",
            " ((0., 0.), (0., 0., 0.)) ((0., 0.), (0., 0., 0.))\n",
            " ((0., 0.), (0., 0., 0.)) ((0., 0.), (0., 0., 0.))\n",
            " ((0., 0.), (0., 0., 0.)) ((0., 0.), (0., 0., 0.))]\n"
          ]
        },
        {
          "output_type": "stream",
          "name": "stderr",
          "text": [
            "/usr/local/lib/python3.7/dist-packages/ipykernel_launcher.py:5: FutureWarning: Passing (type, 1) or '1type' as a synonym of type is deprecated; in a future version of numpy, it will be understood as (type, (1,)) / '(1,)type'.\n",
            "  \"\"\"\n"
          ]
        }
      ],
      "source": [
        "Z = np.zeros(10, [ ('position', [ ('x', float, 1),\n",
        "                                  ('y', float, 1)]),\n",
        "                   ('color',    [ ('r', float, 1),\n",
        "                                  ('g', float, 1),\n",
        "                                  ('b', float, 1)])])\n",
        "print(Z)"
      ]
    },
    {
      "cell_type": "markdown",
      "metadata": {
        "id": "1yzavOOS8fHw"
      },
      "source": [
        "#### 52. Consider a random vector with shape (100,2) representing coordinates, find point by point distances (★★☆) \n",
        "(**hint**: np.atleast\\_2d, T, np.sqrt)"
      ]
    },
    {
      "cell_type": "code",
      "execution_count": null,
      "metadata": {
        "id": "Y9T0xVP58fHx",
        "colab": {
          "base_uri": "https://localhost:8080/"
        },
        "outputId": "54720888-590e-4a9c-c869-52679a0558a2"
      },
      "outputs": [
        {
          "output_type": "stream",
          "name": "stdout",
          "text": [
            "[[0.         0.45346229 0.4619806  0.27796156 0.51902158 0.52502908\n",
            "  0.15922689 0.65236326 0.47926543 0.28896387]\n",
            " [0.45346229 0.         0.70993723 0.5287754  0.95280996 0.3344795\n",
            "  0.53136326 0.61956286 0.55340249 0.16714596]\n",
            " [0.4619806  0.70993723 0.         0.73677468 0.76023285 0.93012132\n",
            "  0.30582139 1.10737577 0.94013262 0.57401998]\n",
            " [0.27796156 0.5287754  0.73677468 0.         0.48653403 0.40720285\n",
            "  0.43098514 0.41405543 0.22700395 0.41450307]\n",
            " [0.51902158 0.95280996 0.76023285 0.48653403 0.         0.89368701\n",
            "  0.54898739 0.84469972 0.6694875  0.79838658]\n",
            " [0.52502908 0.3344795  0.93012132 0.40720285 0.89368701 0.\n",
            "  0.66764187 0.29395531 0.29359035 0.37443694]\n",
            " [0.15922689 0.53136326 0.30582139 0.43098514 0.54898739 0.66764187\n",
            "  0.         0.81129731 0.63826136 0.36666283]\n",
            " [0.65236326 0.61956286 1.10737577 0.41405543 0.84469972 0.29395531\n",
            "  0.81129731 0.         0.18768396 0.61644035]\n",
            " [0.47926543 0.55340249 0.94013262 0.22700395 0.6694875  0.29359035\n",
            "  0.63826136 0.18768396 0.         0.50284755]\n",
            " [0.28896387 0.16714596 0.57401998 0.41450307 0.79838658 0.37443694\n",
            "  0.36666283 0.61644035 0.50284755 0.        ]]\n"
          ]
        }
      ],
      "source": [
        "Z = np.random.random((10,2))\n",
        "X,Y = np.atleast_2d(Z[:,0], Z[:,1])\n",
        "D = np.sqrt( (X-X.T)**2 + (Y-Y.T)**2)\n",
        "print(D)"
      ]
    },
    {
      "cell_type": "markdown",
      "metadata": {
        "id": "r0q10Kyb8fHx"
      },
      "source": [
        "#### 53. How to convert a float (32 bits) array into an integer (32 bits) in place? \n",
        "(**hint**: astype(copy=False))"
      ]
    },
    {
      "cell_type": "code",
      "execution_count": null,
      "metadata": {
        "id": "cI7oQIGG8fHx",
        "colab": {
          "base_uri": "https://localhost:8080/"
        },
        "outputId": "386e24f5-8551-493b-a971-50b51c3b328a"
      },
      "outputs": [
        {
          "output_type": "stream",
          "name": "stdout",
          "text": [
            "[22 79 60 40 46 70 39  0 20 67]\n"
          ]
        }
      ],
      "source": [
        "Z = (np.random.rand(10)*100).astype(np.float32)\n",
        "Y = Z.view(np.int32)\n",
        "Y[:] = Z\n",
        "print(Y)"
      ]
    },
    {
      "cell_type": "markdown",
      "metadata": {
        "id": "PcFolIZG8fHx"
      },
      "source": [
        "#### 54. How to read the following file? (★★☆) \n",
        "(**hint**: np.genfromtxt)"
      ]
    },
    {
      "cell_type": "markdown",
      "metadata": {
        "id": "8NKcVrJK8fHx"
      },
      "source": [
        "```\n",
        "1, 2, 3, 4, 5\n",
        "6,  ,  , 7, 8\n",
        " ,  , 9,10,11\n",
        "```"
      ]
    },
    {
      "cell_type": "code",
      "execution_count": null,
      "metadata": {
        "id": "Dus5b6O68fHx",
        "colab": {
          "base_uri": "https://localhost:8080/"
        },
        "outputId": "3bdcf8ef-47a9-442a-fcb7-897b7c2cb23e"
      },
      "outputs": [
        {
          "output_type": "stream",
          "name": "stdout",
          "text": [
            "[[ 1  2  3  4  5]\n",
            " [ 6 -1 -1  7  8]\n",
            " [-1 -1  9 10 11]]\n"
          ]
        }
      ],
      "source": [
        "from io import StringIO\n",
        "s = StringIO('''1, 2, 3, 4, 5\n",
        "                6,  ,  , 7, 8\n",
        "                 ,  , 9,10,11\n",
        "''')\n",
        "Z = np.genfromtxt(s, delimiter=\",\", dtype=int)\n",
        "print(Z)"
      ]
    },
    {
      "cell_type": "markdown",
      "metadata": {
        "id": "1c-qfu3j8fHx"
      },
      "source": [
        "#### 55. What is the equivalent of enumerate for numpy arrays? (★★☆) \n",
        "(**hint**: np.ndenumerate, np.ndindex)"
      ]
    },
    {
      "cell_type": "code",
      "execution_count": null,
      "metadata": {
        "id": "7eOsST8s8fHx",
        "colab": {
          "base_uri": "https://localhost:8080/"
        },
        "outputId": "5883e829-e953-42b3-bc4a-af0eaff07369"
      },
      "outputs": [
        {
          "output_type": "stream",
          "name": "stdout",
          "text": [
            "(0, 0) 0\n",
            "(0, 1) 1\n",
            "(0, 2) 2\n",
            "(1, 0) 3\n",
            "(1, 1) 4\n",
            "(1, 2) 5\n",
            "(2, 0) 6\n",
            "(2, 1) 7\n",
            "(2, 2) 8\n",
            "(0, 0) 0\n",
            "(0, 1) 1\n",
            "(0, 2) 2\n",
            "(1, 0) 3\n",
            "(1, 1) 4\n",
            "(1, 2) 5\n",
            "(2, 0) 6\n",
            "(2, 1) 7\n",
            "(2, 2) 8\n"
          ]
        }
      ],
      "source": [
        "Z = np.arange(9).reshape(3,3)\n",
        "for index, value in np.ndenumerate(Z):\n",
        "    print(index, value)\n",
        "for index in np.ndindex(Z.shape):\n",
        "    print(index, Z[index])"
      ]
    },
    {
      "cell_type": "markdown",
      "metadata": {
        "id": "0DtUvO2o8fHy"
      },
      "source": [
        "#### 56. Generate a generic 2D Gaussian-like array (★★☆) \n",
        "(**hint**: np.meshgrid, np.exp)"
      ]
    },
    {
      "cell_type": "code",
      "execution_count": null,
      "metadata": {
        "id": "yJWcmQ8S8fHy",
        "colab": {
          "base_uri": "https://localhost:8080/"
        },
        "outputId": "b7144c82-869a-4246-959d-880b08322728"
      },
      "outputs": [
        {
          "output_type": "stream",
          "name": "stdout",
          "text": [
            "[[0.36787944 0.44822088 0.51979489 0.57375342 0.60279818 0.60279818\n",
            "  0.57375342 0.51979489 0.44822088 0.36787944]\n",
            " [0.44822088 0.54610814 0.63331324 0.69905581 0.73444367 0.73444367\n",
            "  0.69905581 0.63331324 0.54610814 0.44822088]\n",
            " [0.51979489 0.63331324 0.73444367 0.81068432 0.85172308 0.85172308\n",
            "  0.81068432 0.73444367 0.63331324 0.51979489]\n",
            " [0.57375342 0.69905581 0.81068432 0.89483932 0.9401382  0.9401382\n",
            "  0.89483932 0.81068432 0.69905581 0.57375342]\n",
            " [0.60279818 0.73444367 0.85172308 0.9401382  0.98773022 0.98773022\n",
            "  0.9401382  0.85172308 0.73444367 0.60279818]\n",
            " [0.60279818 0.73444367 0.85172308 0.9401382  0.98773022 0.98773022\n",
            "  0.9401382  0.85172308 0.73444367 0.60279818]\n",
            " [0.57375342 0.69905581 0.81068432 0.89483932 0.9401382  0.9401382\n",
            "  0.89483932 0.81068432 0.69905581 0.57375342]\n",
            " [0.51979489 0.63331324 0.73444367 0.81068432 0.85172308 0.85172308\n",
            "  0.81068432 0.73444367 0.63331324 0.51979489]\n",
            " [0.44822088 0.54610814 0.63331324 0.69905581 0.73444367 0.73444367\n",
            "  0.69905581 0.63331324 0.54610814 0.44822088]\n",
            " [0.36787944 0.44822088 0.51979489 0.57375342 0.60279818 0.60279818\n",
            "  0.57375342 0.51979489 0.44822088 0.36787944]]\n"
          ]
        }
      ],
      "source": [
        "X, Y = np.meshgrid(np.linspace(-1,1,10), np.linspace(-1,1,10))\n",
        "D = np.sqrt(X*X+Y*Y)\n",
        "sigma, mu = 1.0, 0.0\n",
        "G = np.exp(-( (D-mu)**2 / ( 2.0 * sigma**2 ) ) )\n",
        "print(G)"
      ]
    },
    {
      "cell_type": "markdown",
      "metadata": {
        "id": "wAOuPLc18fHy"
      },
      "source": [
        "#### 57. How to randomly place p elements in a 2D array? (★★☆) \n",
        "(**hint**: np.put, np.random.choice)"
      ]
    },
    {
      "cell_type": "code",
      "execution_count": null,
      "metadata": {
        "id": "wX4MqFAW8fHy",
        "colab": {
          "base_uri": "https://localhost:8080/"
        },
        "outputId": "a1473d5e-6008-4b30-b302-9f2b03ae34df"
      },
      "outputs": [
        {
          "output_type": "stream",
          "name": "stdout",
          "text": [
            "[[0. 0. 0. 0. 0. 0. 0. 0. 0. 0.]\n",
            " [0. 0. 0. 0. 0. 1. 0. 0. 0. 0.]\n",
            " [0. 0. 0. 0. 0. 0. 0. 0. 0. 0.]\n",
            " [0. 0. 0. 0. 0. 0. 0. 0. 0. 0.]\n",
            " [0. 0. 0. 0. 0. 0. 0. 0. 0. 0.]\n",
            " [0. 0. 0. 0. 0. 0. 0. 0. 0. 0.]\n",
            " [0. 0. 0. 0. 0. 0. 0. 0. 0. 0.]\n",
            " [0. 0. 0. 0. 0. 0. 0. 0. 0. 0.]\n",
            " [0. 0. 0. 1. 0. 0. 0. 0. 0. 0.]\n",
            " [0. 0. 0. 0. 0. 0. 0. 1. 0. 0.]]\n"
          ]
        }
      ],
      "source": [
        "n = 10\n",
        "p = 3\n",
        "Z = np.zeros((n,n))\n",
        "np.put(Z, np.random.choice(range(n*n), p, replace=False),1)\n",
        "print(Z)"
      ]
    },
    {
      "cell_type": "markdown",
      "metadata": {
        "id": "qN5sCXBp8fHy"
      },
      "source": [
        "#### 58. Subtract the mean of each row of a matrix (★★☆) \n",
        "(**hint**: mean(axis=,keepdims=))"
      ]
    },
    {
      "cell_type": "code",
      "execution_count": null,
      "metadata": {
        "id": "0GA8rO1R8fHy",
        "colab": {
          "base_uri": "https://localhost:8080/"
        },
        "outputId": "94f926cc-418c-44ea-b040-dd7b7fd7edd8"
      },
      "outputs": [
        {
          "output_type": "stream",
          "name": "stdout",
          "text": [
            "[[-0.41028373  0.10594164  0.31979208 -0.22935049 -0.01035663 -0.11785006\n",
            "  -0.11627616  0.44869293  0.06502612 -0.05533571]\n",
            " [ 0.16055635  0.09485272 -0.19511123 -0.47149543  0.45779262 -0.17010968\n",
            "  -0.2727327  -0.14445309  0.37396702  0.16673342]\n",
            " [ 0.49931922  0.35328233 -0.01342124  0.01408801  0.0321785   0.18875104\n",
            "  -0.26353079 -0.31466571 -0.28646675 -0.20953462]\n",
            " [-0.09121443 -0.0514007  -0.20195185 -0.14468219  0.33817904  0.04956543\n",
            "  -0.14436297  0.44630688 -0.27307961  0.07264039]\n",
            " [ 0.15886709  0.28321047  0.13885954 -0.1178994  -0.23275372 -0.02954223\n",
            "  -0.15332407 -0.20618819  0.06616137  0.09260915]]\n"
          ]
        }
      ],
      "source": [
        "X = np.random.rand(5, 10)\n",
        "Y = X - X.mean(axis=1, keepdims=True)\n",
        "print(Y)"
      ]
    },
    {
      "cell_type": "markdown",
      "metadata": {
        "id": "5l79JRxQ8fHy"
      },
      "source": [
        "#### 59. How to sort an array by the nth column? (★★☆) \n",
        "(**hint**: argsort)"
      ]
    },
    {
      "cell_type": "code",
      "execution_count": null,
      "metadata": {
        "id": "ADL2rDnq8fHy",
        "colab": {
          "base_uri": "https://localhost:8080/"
        },
        "outputId": "1127b864-2289-46a7-c32c-4ddb8e6e7b8a"
      },
      "outputs": [
        {
          "output_type": "stream",
          "name": "stdout",
          "text": [
            "[[8 0 0]\n",
            " [6 9 0]\n",
            " [8 7 6]]\n",
            "[[8 0 0]\n",
            " [8 7 6]\n",
            " [6 9 0]]\n"
          ]
        }
      ],
      "source": [
        "Z = np.random.randint(0,10,(3,3))\n",
        "print(Z)\n",
        "print(Z[Z[:,1].argsort()])"
      ]
    },
    {
      "cell_type": "markdown",
      "metadata": {
        "id": "BBi5PmiU8fHy"
      },
      "source": [
        "#### 60. How to tell if a given 2D array has null columns? (★★☆) \n",
        "(**hint**: any, ~)"
      ]
    },
    {
      "cell_type": "code",
      "execution_count": null,
      "metadata": {
        "id": "jb7aqWS28fHz",
        "colab": {
          "base_uri": "https://localhost:8080/"
        },
        "outputId": "76890d30-a731-4668-fb50-4982d6ac5416"
      },
      "outputs": [
        {
          "output_type": "stream",
          "name": "stdout",
          "text": [
            "True\n"
          ]
        }
      ],
      "source": [
        "Z = np.random.randint(0,3,(3,10))\n",
        "print((~Z.any(axis=0)).any())"
      ]
    },
    {
      "cell_type": "markdown",
      "metadata": {
        "id": "12pVktvX8fH1"
      },
      "source": [
        "#### 61. Find the nearest value from a given value in an array (★★☆) \n",
        "(**hint**: np.abs, argmin, flat)"
      ]
    },
    {
      "cell_type": "code",
      "execution_count": 3,
      "metadata": {
        "id": "-UGHT1Vp8fH1",
        "colab": {
          "base_uri": "https://localhost:8080/"
        },
        "outputId": "c4d21752-e9b5-4aee-e32b-c8b95875db59"
      },
      "outputs": [
        {
          "output_type": "stream",
          "name": "stdout",
          "text": [
            "0.47831239408010795\n"
          ]
        }
      ],
      "source": [
        "Z = np.random.uniform(0,1,10)\n",
        "z = 0.5\n",
        "m = Z.flat[np.abs(Z - z).argmin()]\n",
        "print(m)"
      ]
    },
    {
      "cell_type": "markdown",
      "metadata": {
        "id": "_UkCqZ_r8fH1"
      },
      "source": [
        "#### 62. Considering two arrays with shape (1,3) and (3,1), how to compute their sum using an iterator? (★★☆) \n",
        "(**hint**: np.nditer)"
      ]
    },
    {
      "cell_type": "code",
      "execution_count": 9,
      "metadata": {
        "id": "ofeIsILP8fH1",
        "colab": {
          "base_uri": "https://localhost:8080/"
        },
        "outputId": "5a24746d-081c-460a-d98e-7661b9900701"
      },
      "outputs": [
        {
          "output_type": "stream",
          "name": "stdout",
          "text": [
            "[[0 1 2]\n",
            " [1 2 3]\n",
            " [2 3 4]]\n",
            "[[0]\n",
            " [1]\n",
            " [2]]\n",
            "[[0 1 2]]\n"
          ]
        }
      ],
      "source": [
        "A = np.arange(3).reshape(3,1)\n",
        "B = np.arange(3).reshape(1,3)\n",
        "it = np.nditer([A,B,None])\n",
        "for x,y,z in it: \n",
        "  z[...] = x + y\n",
        "print(it.operands[2])\n",
        "print(A)\n",
        "print(B)"
      ]
    },
    {
      "cell_type": "markdown",
      "metadata": {
        "id": "IMcKpS1w8fH1"
      },
      "source": [
        "#### 63. Create an array class that has a name attribute (★★☆) \n",
        "(**hint**: class method)"
      ]
    },
    {
      "cell_type": "code",
      "execution_count": 69,
      "metadata": {
        "id": "SEuEGgaI8fH1",
        "colab": {
          "base_uri": "https://localhost:8080/"
        },
        "outputId": "bafbd12e-853e-49d4-e951-2939aede8eaa"
      },
      "outputs": [
        {
          "output_type": "stream",
          "name": "stdout",
          "text": [
            "range\n"
          ]
        }
      ],
      "source": [
        "class NamedArray(np.ndarray):\n",
        "    def __new__(cls, array, name=\"no name\"):\n",
        "        obj = np.asarray(array).view(cls)\n",
        "        obj.name = name\n",
        "        return obj\n",
        "    def __array_finalize__(self, obj):\n",
        "        if obj is None: return\n",
        "        self.info = getattr(obj, 'name', \"no name\")\n",
        "\n",
        "Z = NamedArray(np.arange(10), \"range\")\n",
        "print (Z.name)"
      ]
    },
    {
      "cell_type": "markdown",
      "metadata": {
        "id": "3K9Hx5bz8fH1"
      },
      "source": [
        "#### 64. Consider a given vector, how to add 1 to each element indexed by a second vector (be careful with repeated indices)? (★★★) \n",
        "(**hint**: np.bincount | np.add.at)"
      ]
    },
    {
      "cell_type": "code",
      "execution_count": 68,
      "metadata": {
        "id": "vYLSH8Ft8fH1",
        "colab": {
          "base_uri": "https://localhost:8080/"
        },
        "outputId": "65fcc718-3f93-45c5-f3c5-3d9e8162979d"
      },
      "outputs": [
        {
          "output_type": "stream",
          "name": "stdout",
          "text": [
            "[3. 5. 1. 5. 3. 2. 3. 3. 3. 2.]\n",
            "[5. 9. 1. 9. 5. 3. 5. 5. 5. 3.]\n"
          ]
        }
      ],
      "source": [
        "Z = np.ones(10)\n",
        "I = np.random.randint(0,len(Z),20)\n",
        "Z += np.bincount(I, minlength=len(Z))\n",
        "print(Z)\n",
        "np.add.at(Z, I, 1)\n",
        "print(Z)"
      ]
    },
    {
      "cell_type": "markdown",
      "metadata": {
        "id": "tuyQBENO8fH1"
      },
      "source": [
        "#### 65. How to accumulate elements of a vector (X) to an array (F) based on an index list (I)? (★★★) \n",
        "(**hint**: np.bincount)"
      ]
    },
    {
      "cell_type": "code",
      "execution_count": 14,
      "metadata": {
        "id": "f_HV1QqS8fH2",
        "colab": {
          "base_uri": "https://localhost:8080/"
        },
        "outputId": "1545d464-8ff0-492a-aba7-8971e1d3fc83"
      },
      "outputs": [
        {
          "output_type": "stream",
          "name": "stdout",
          "text": [
            "[0. 7. 0. 6. 5. 0. 0. 0. 0. 3.]\n"
          ]
        }
      ],
      "source": [
        "X = [1,2,3,4,5,6]\n",
        "I = [1,3,9,3,4,1]\n",
        "F = np.bincount(I,X)\n",
        "print(F)"
      ]
    },
    {
      "cell_type": "markdown",
      "metadata": {
        "id": "-_HTUS0v8fH2"
      },
      "source": [
        "#### 66. Considering a (w,h,3) image of (dtype=ubyte), compute the number of unique colors (★★★) \n",
        "(**hint**: np.unique)"
      ]
    },
    {
      "cell_type": "code",
      "execution_count": 15,
      "metadata": {
        "id": "xiAk8_dN8fH2",
        "colab": {
          "base_uri": "https://localhost:8080/"
        },
        "outputId": "8e3c0e8d-29af-4317-ac5b-309e166feb38"
      },
      "outputs": [
        {
          "output_type": "stream",
          "name": "stdout",
          "text": [
            "64\n"
          ]
        }
      ],
      "source": [
        "w, h = 256, 256\n",
        "I = np.random.randint(0, 4, (h, w, 3)).astype(np.ubyte)\n",
        "colors = np.unique(I.reshape(-1, 3), axis=0)\n",
        "n = len(colors)\n",
        "print(n)"
      ]
    },
    {
      "cell_type": "markdown",
      "metadata": {
        "id": "QEAMyErQ8fH2"
      },
      "source": [
        "#### 67. Considering a four dimensions array, how to get sum over the last two axis at once? (★★★) \n",
        "(**hint**: sum(axis=(-2,-1)))"
      ]
    },
    {
      "cell_type": "code",
      "execution_count": 16,
      "metadata": {
        "id": "s3X9ER2W8fH2",
        "colab": {
          "base_uri": "https://localhost:8080/"
        },
        "outputId": "e29d2588-f4df-4cdc-a36f-2655bdb93445"
      },
      "outputs": [
        {
          "output_type": "stream",
          "name": "stdout",
          "text": [
            "[[55 51 33 51]\n",
            " [65 34 51 68]\n",
            " [57 52 58 50]]\n"
          ]
        }
      ],
      "source": [
        "A = np.random.randint(0,10,(3,4,3,4))\n",
        "sum = A.reshape(A.shape[:-2] + (-1,)).sum(axis=-1)\n",
        "print(sum)"
      ]
    },
    {
      "cell_type": "markdown",
      "metadata": {
        "id": "uzpF9qsy8fH2"
      },
      "source": [
        "#### 68. Considering a one-dimensional vector D, how to compute means of subsets of D using a vector S of same size describing subset  indices? (★★★) \n",
        "(**hint**: np.bincount)"
      ]
    },
    {
      "cell_type": "code",
      "execution_count": 17,
      "metadata": {
        "id": "BTTqilTC8fH2",
        "colab": {
          "base_uri": "https://localhost:8080/"
        },
        "outputId": "fc52799d-a20d-4a61-89a4-0cb9947ee69a"
      },
      "outputs": [
        {
          "output_type": "stream",
          "name": "stdout",
          "text": [
            "[0.52931571 0.35327139 0.51340372 0.32304378 0.53496818 0.43357704\n",
            " 0.58114074 0.41027228 0.39708918 0.50258089]\n"
          ]
        }
      ],
      "source": [
        "D = np.random.uniform(0,1,100)\n",
        "S = np.random.randint(0,10,100)\n",
        "D_sums = np.bincount(S, weights=D)\n",
        "D_counts = np.bincount(S)\n",
        "D_means = D_sums / D_counts\n",
        "print(D_means)"
      ]
    },
    {
      "cell_type": "markdown",
      "metadata": {
        "id": "1oLoZfPb8fH2"
      },
      "source": [
        "#### 69. How to get the diagonal of a dot product? (★★★) \n",
        "(**hint**: np.diag)"
      ]
    },
    {
      "cell_type": "code",
      "execution_count": 18,
      "metadata": {
        "id": "x3EQaFW-8fH3",
        "colab": {
          "base_uri": "https://localhost:8080/"
        },
        "outputId": "f920cc29-f25b-4ea8-faea-9adfc5e524c7"
      },
      "outputs": [
        {
          "output_type": "stream",
          "name": "stdout",
          "text": [
            "[0.88768445 2.32054588 1.55315734 2.07497528 1.54506991]\n"
          ]
        }
      ],
      "source": [
        "A = np.random.uniform(0,1,(5,5))\n",
        "B = np.random.uniform(0,1,(5,5))\n",
        "print(np.diag(np.dot(A, B)))"
      ]
    },
    {
      "cell_type": "markdown",
      "metadata": {
        "id": "jbDjoI3t8fH3"
      },
      "source": [
        "#### 70. Consider the vector \\[1, 2, 3, 4, 5\\], how to build a new vector with 3 consecutive zeros interleaved between each value? (★★★) \n",
        "(**hint**: array\\[::4\\])"
      ]
    },
    {
      "cell_type": "code",
      "execution_count": 20,
      "metadata": {
        "id": "hHdmNH028fH3",
        "colab": {
          "base_uri": "https://localhost:8080/"
        },
        "outputId": "d617759a-5b81-41e2-9607-e5ff519c9ece"
      },
      "outputs": [
        {
          "output_type": "stream",
          "name": "stdout",
          "text": [
            "[1. 0. 0. 0. 2. 0. 0. 0. 3. 0. 0. 0. 4. 0. 0. 0. 5.]\n"
          ]
        }
      ],
      "source": [
        "Z = np.array([1,2,3,4,5])\n",
        "n = 3\n",
        "z = np.zeros(len(Z) + (len(Z)-1)*(n))\n",
        "z[::4] = Z\n",
        "print(z)"
      ]
    },
    {
      "cell_type": "markdown",
      "metadata": {
        "id": "qNZHyQ3d8fH3"
      },
      "source": [
        "#### 71. Consider an array of dimension (5,5,3), how to mulitply it by an array with dimensions (5,5)? (★★★) \n",
        "(**hint**: array\\[:, :, None\\])"
      ]
    },
    {
      "cell_type": "code",
      "execution_count": 21,
      "metadata": {
        "collapsed": true,
        "id": "jQoGPcZa8fH4",
        "colab": {
          "base_uri": "https://localhost:8080/"
        },
        "outputId": "c7c7bc1d-1a19-4ffe-a4b1-a050391bcfaa"
      },
      "outputs": [
        {
          "output_type": "stream",
          "name": "stdout",
          "text": [
            "[[[2. 2. 2.]\n",
            "  [2. 2. 2.]\n",
            "  [2. 2. 2.]\n",
            "  [2. 2. 2.]\n",
            "  [2. 2. 2.]]\n",
            "\n",
            " [[2. 2. 2.]\n",
            "  [2. 2. 2.]\n",
            "  [2. 2. 2.]\n",
            "  [2. 2. 2.]\n",
            "  [2. 2. 2.]]\n",
            "\n",
            " [[2. 2. 2.]\n",
            "  [2. 2. 2.]\n",
            "  [2. 2. 2.]\n",
            "  [2. 2. 2.]\n",
            "  [2. 2. 2.]]\n",
            "\n",
            " [[2. 2. 2.]\n",
            "  [2. 2. 2.]\n",
            "  [2. 2. 2.]\n",
            "  [2. 2. 2.]\n",
            "  [2. 2. 2.]]\n",
            "\n",
            " [[2. 2. 2.]\n",
            "  [2. 2. 2.]\n",
            "  [2. 2. 2.]\n",
            "  [2. 2. 2.]\n",
            "  [2. 2. 2.]]]\n"
          ]
        }
      ],
      "source": [
        "A = np.ones((5,5,3))\n",
        "B = 2*np.ones((5,5))\n",
        "print(A * B[:,:,None])"
      ]
    },
    {
      "cell_type": "markdown",
      "metadata": {
        "id": "X7zH4roB8fH4"
      },
      "source": [
        "#### 72. How to swap two rows of an array? (★★★) \n",
        "(**hint**: array\\[\\[\\]\\] = array\\[\\[\\]\\])"
      ]
    },
    {
      "cell_type": "code",
      "execution_count": 22,
      "metadata": {
        "id": "0GZZ_SWh8fH4",
        "colab": {
          "base_uri": "https://localhost:8080/"
        },
        "outputId": "270ef9c6-d091-4277-b89d-6d31c8783d2d"
      },
      "outputs": [
        {
          "output_type": "stream",
          "name": "stdout",
          "text": [
            "[[ 5  6  7  8  9]\n",
            " [ 0  1  2  3  4]\n",
            " [10 11 12 13 14]\n",
            " [15 16 17 18 19]\n",
            " [20 21 22 23 24]]\n"
          ]
        }
      ],
      "source": [
        "A = np.arange(25).reshape(5,5)\n",
        "A[[0,1]] = A[[1,0]]\n",
        "print(A)"
      ]
    },
    {
      "cell_type": "markdown",
      "metadata": {
        "id": "L51n3GzO8fH5"
      },
      "source": [
        "#### 73. Consider a set of 10 triplets describing 10 triangles (with shared vertices), find the set of unique line segments composing all the  triangles (★★★) \n",
        "(**hint**: repeat, np.roll, np.sort, view, np.unique)"
      ]
    },
    {
      "cell_type": "code",
      "execution_count": 23,
      "metadata": {
        "id": "p-0aayCR8fH5",
        "colab": {
          "base_uri": "https://localhost:8080/"
        },
        "outputId": "65dabb81-b0a0-4d1d-b64f-ee732e0da2f0"
      },
      "outputs": [
        {
          "output_type": "stream",
          "name": "stdout",
          "text": [
            "[( 1, 69) ( 1, 95) ( 3, 52) ( 3, 98) (11, 17) (11, 92) (17, 92) (18, 54)\n",
            " (18, 67) (28, 31) (28, 33) (31, 33) (31, 52) (31, 58) (32, 34) (32, 97)\n",
            " (34, 97) (49, 53) (49, 86) (52, 58) (52, 98) (53, 86) (54, 67) (55, 75)\n",
            " (55, 96) (56, 65) (56, 89) (65, 89) (69, 95) (75, 96)]\n"
          ]
        }
      ],
      "source": [
        "faces = np.random.randint(0,100,(10,3))\n",
        "F = np.roll(faces.repeat(2,axis=1),-1,axis=1)\n",
        "F = F.reshape(len(F)*3,2)\n",
        "F = np.sort(F,axis=1)\n",
        "G = F.view( dtype=[('p0',F.dtype),('p1',F.dtype)] )\n",
        "G = np.unique(G)\n",
        "print(G)"
      ]
    },
    {
      "cell_type": "markdown",
      "metadata": {
        "id": "RdJ8EcAV8fH6"
      },
      "source": [
        "#### 74. Given an array C that is a bincount, how to produce an array A such that np.bincount(A) == C? (★★★) \n",
        "(**hint**: np.repeat)"
      ]
    },
    {
      "cell_type": "code",
      "execution_count": 24,
      "metadata": {
        "id": "kqkmXJwA8fH6",
        "colab": {
          "base_uri": "https://localhost:8080/"
        },
        "outputId": "a67016c0-e4c0-4758-9f60-335b0156a711"
      },
      "outputs": [
        {
          "output_type": "stream",
          "name": "stdout",
          "text": [
            "[1 1 2 3 4 4 6]\n"
          ]
        }
      ],
      "source": [
        "C = np.bincount([1,1,2,3,4,4,6])\n",
        "A = np.repeat(np.arange(len(C)), C)\n",
        "print(A)"
      ]
    },
    {
      "cell_type": "markdown",
      "metadata": {
        "id": "a3YAWWe_8fH6"
      },
      "source": [
        "#### 75. How to compute averages using a sliding window over an array? (★★★) \n",
        "(**hint**: np.cumsum)"
      ]
    },
    {
      "cell_type": "code",
      "execution_count": 25,
      "metadata": {
        "id": "gsOtaBMg8fH6",
        "colab": {
          "base_uri": "https://localhost:8080/"
        },
        "outputId": "3bda7cf3-6cf8-4aba-b376-910f215744f2"
      },
      "outputs": [
        {
          "output_type": "stream",
          "name": "stdout",
          "text": [
            "[ 1.  2.  3.  4.  5.  6.  7.  8.  9. 10. 11. 12. 13. 14. 15. 16. 17. 18.]\n"
          ]
        }
      ],
      "source": [
        "def moving_average(a, n=3) :\n",
        "    ret = np.cumsum(a, dtype=float)\n",
        "    ret[n:] = ret[n:] - ret[:-n]\n",
        "    return ret[n - 1:] / n\n",
        "Z = np.arange(20)\n",
        "print(moving_average(Z, n=3))"
      ]
    },
    {
      "cell_type": "markdown",
      "metadata": {
        "id": "slXX-kx08fH6"
      },
      "source": [
        "#### 76. Consider a one-dimensional array Z, build a two-dimensional array whose first row is (Z\\[0\\],Z\\[1\\],Z\\[2\\]) and each subsequent row is  shifted by 1 (last row should be (Z\\[-3\\],Z\\[-2\\],Z\\[-1\\]) (★★★) \n",
        "(**hint**: from numpy.lib import stride_tricks)"
      ]
    },
    {
      "cell_type": "code",
      "execution_count": null,
      "metadata": {
        "id": "ftHMjAJI8fH6"
      },
      "outputs": [],
      "source": [
        "from numpy.lib import stride_tricks\n",
        "\n",
        "def rolling(a, window):\n",
        "    shape = (a.size - window + 1, window)\n",
        "    strides = (a.strides[0], a.strides[0])\n",
        "    return stride_tricks.as_strided(a, shape=shape, strides=strides)\n",
        "Z = rolling(np.arange(10), 3)\n",
        "print(Z)"
      ]
    },
    {
      "cell_type": "markdown",
      "metadata": {
        "id": "4X58vYLS8fH6"
      },
      "source": [
        "#### 77. How to negate a boolean, or to change the sign of a float inplace? (★★★) \n",
        "(**hint**: np.logical_not, np.negative)"
      ]
    },
    {
      "cell_type": "code",
      "execution_count": 27,
      "metadata": {
        "id": "HIkXskE08fH7",
        "colab": {
          "base_uri": "https://localhost:8080/"
        },
        "outputId": "ab5721e2-b94c-41e1-b40e-83002ad9c7ff"
      },
      "outputs": [
        {
          "output_type": "stream",
          "name": "stdout",
          "text": [
            "[0 0 0 0 0 1 1 0 0 0]\n",
            "[-0.61312605  0.3392685   0.04176393 -0.72891882 -0.09559483  0.73250038\n",
            " -0.78148195  0.13994691  0.11416846  0.90634374]\n"
          ]
        }
      ],
      "source": [
        "Z = np.random.randint(0,2,10)\n",
        "print(np.logical_not(Z, out=Z))\n",
        "\n",
        "Z = np.random.uniform(-1.0,1.0,10)\n",
        "print(np.negative(Z, out=Z))"
      ]
    },
    {
      "cell_type": "markdown",
      "metadata": {
        "id": "BDAOg1R68fH7"
      },
      "source": [
        "#### 78. Consider 2 sets of points P0,P1 describing lines (2d) and a point p, how to compute distance from p to each line i  (P0\\[i\\],P1\\[i\\])? (★★★)"
      ]
    },
    {
      "cell_type": "code",
      "execution_count": 29,
      "metadata": {
        "id": "ESh7I4QD8fH7",
        "colab": {
          "base_uri": "https://localhost:8080/"
        },
        "outputId": "f5c87e7f-8ab5-4231-c498-4742ea0bb882"
      },
      "outputs": [
        {
          "output_type": "stream",
          "name": "stdout",
          "text": [
            "[ 6.68429555  9.97763053 12.11404141  1.4559073   2.90136758 18.56432416\n",
            " 14.80341822  5.60317845  4.71715669  6.31714481]\n"
          ]
        }
      ],
      "source": [
        "def distance(P0, P1, p):\n",
        "    T = P1 - P0\n",
        "    L = (T**2).sum(axis=1)\n",
        "    U = -((P0[:,0]-p[...,0])*T[:,0] + (P0[:,1]-p[...,1])*T[:,1]) / L\n",
        "    U = U.reshape(len(U),1)\n",
        "    D = P0 + U*T - p\n",
        "    return np.sqrt((D**2).sum(axis=1))\n",
        "\n",
        "P0 = np.random.uniform(-10,10,(10,2))\n",
        "P1 = np.random.uniform(-10,10,(10,2))\n",
        "p  = np.random.uniform(-10,10,( 1,2))\n",
        "print(distance(P0, P1, p))"
      ]
    },
    {
      "cell_type": "markdown",
      "metadata": {
        "id": "XnUygqE-8fH7"
      },
      "source": [
        "#### 79. Consider 2 sets of points P0,P1 describing lines (2d) and a set of points P, how to compute distance from each point j (P\\[j\\]) to each line i (P0\\[i\\],P1\\[i\\])? (★★★)"
      ]
    },
    {
      "cell_type": "code",
      "execution_count": 30,
      "metadata": {
        "id": "e3Olxga78fH7",
        "colab": {
          "base_uri": "https://localhost:8080/"
        },
        "outputId": "8a746914-5e6d-4669-c845-85ca3cae5072"
      },
      "outputs": [
        {
          "output_type": "stream",
          "name": "stdout",
          "text": [
            "[[ 3.16366931  6.75269202  8.880244    6.76834219  2.98818556  8.99130515\n",
            "   1.17682131 10.6705363  10.43521249 12.92948823]\n",
            " [ 4.59445834  2.13952489 13.77400643  2.09818026  5.95994911  3.92257608\n",
            "   7.39127838 15.59189001 14.04888987  5.13317772]\n",
            " [ 5.3981792   0.24258652  5.59083602  2.48500302  3.12945032  0.33659793\n",
            "   1.85619848  7.41320949  5.77801568  4.39958944]\n",
            " [ 1.3885615   8.84022944  7.4663125  13.73268874  6.04732131  2.24067242\n",
            "  10.3530008   5.65622245  6.56314219  8.51869727]\n",
            " [ 3.07669711  2.90180621  4.13072226  5.13545696  0.45372076  1.18195889\n",
            "   0.7045065   5.94483873  4.70092265  6.73246077]\n",
            " [ 1.46388937  6.43128441  5.67265174  7.53525578  2.87820513  6.0417782\n",
            "   2.4626908   7.46979269  6.96927528 11.25783015]\n",
            " [ 3.29560535  4.83862899  1.48652607  8.52897296  1.78231982  1.43407071\n",
            "   4.71639237  0.32944944  0.92270258  6.56154247]\n",
            " [ 5.63424985  4.35985836  5.80351259  9.52323826  1.58941464  5.45085222\n",
            "   6.41447032  3.97813241  5.59563041  4.26076945]\n",
            " [14.13382961  5.62420664  0.19461486  0.5937379   8.48918668 10.73043729\n",
            "   3.44303599  2.05010373  1.00321721  4.28607024]\n",
            " [ 4.30042951  2.67182995  1.81773515  5.68994484  0.53128826  0.94311241\n",
            "   1.63300425  3.63678291  2.20196303  5.52900608]]\n"
          ]
        }
      ],
      "source": [
        "P0 = np.random.uniform(-10, 10, (10,2))\n",
        "P1 = np.random.uniform(-10,10,(10,2))\n",
        "p = np.random.uniform(-10, 10, (10,2))\n",
        "print(np.array([distance(P0,P1,p_i) for p_i in p]))"
      ]
    },
    {
      "cell_type": "markdown",
      "metadata": {
        "id": "EkYZcxk-8fH7"
      },
      "source": [
        "#### 80. Consider an arbitrary array, write a function that extract a subpart with a fixed shape and centered on a given element (pad with a `fill` value when necessary) (★★★) \n",
        "(**hint**: minimum, maximum)"
      ]
    },
    {
      "cell_type": "code",
      "execution_count": 31,
      "metadata": {
        "id": "ORFv0vLM8fH7",
        "colab": {
          "base_uri": "https://localhost:8080/"
        },
        "outputId": "58f52a83-3493-4e08-f94b-020e0413b2c1"
      },
      "outputs": [
        {
          "output_type": "stream",
          "name": "stdout",
          "text": [
            "[[7 5 7 2 0 9 2 2 8 9]\n",
            " [4 1 1 4 7 7 1 7 5 9]\n",
            " [2 8 5 0 8 6 8 3 5 0]\n",
            " [0 9 4 8 7 5 4 2 3 9]\n",
            " [4 5 6 3 4 1 6 5 6 8]\n",
            " [8 2 9 3 6 0 9 1 4 4]\n",
            " [5 3 2 9 8 8 8 6 4 2]\n",
            " [5 8 0 9 6 9 6 5 7 8]\n",
            " [3 3 1 9 4 1 2 7 1 2]\n",
            " [8 2 4 3 4 3 7 9 9 5]]\n",
            "[[0 0 0 0 0]\n",
            " [0 7 5 7 2]\n",
            " [0 4 1 1 4]\n",
            " [0 2 8 5 0]\n",
            " [0 0 9 4 8]]\n"
          ]
        },
        {
          "output_type": "stream",
          "name": "stderr",
          "text": [
            "/usr/local/lib/python3.7/dist-packages/ipykernel_launcher.py:23: FutureWarning: Using a non-tuple sequence for multidimensional indexing is deprecated; use `arr[tuple(seq)]` instead of `arr[seq]`. In the future this will be interpreted as an array index, `arr[np.array(seq)]`, which will result either in an error or a different result.\n"
          ]
        }
      ],
      "source": [
        "Z = np.random.randint(0,10,(10,10))\n",
        "shape = (5,5)\n",
        "fill  = 0\n",
        "position = (1,1)\n",
        "\n",
        "R = np.ones(shape, dtype=Z.dtype)*fill\n",
        "P  = np.array(list(position)).astype(int)\n",
        "Rs = np.array(list(R.shape)).astype(int)\n",
        "Zs = np.array(list(Z.shape)).astype(int)\n",
        "\n",
        "R_start = np.zeros((len(shape),)).astype(int)\n",
        "R_stop  = np.array(list(shape)).astype(int)\n",
        "Z_start = (P-Rs//2)\n",
        "Z_stop  = (P+Rs//2)+Rs%2\n",
        "\n",
        "R_start = (R_start - np.minimum(Z_start,0)).tolist()\n",
        "Z_start = (np.maximum(Z_start,0)).tolist()\n",
        "R_stop = np.maximum(R_start, (R_stop - np.maximum(Z_stop-Zs,0))).tolist()\n",
        "Z_stop = (np.minimum(Z_stop,Zs)).tolist()\n",
        "\n",
        "r = [slice(start,stop) for start,stop in zip(R_start,R_stop)]\n",
        "z = [slice(start,stop) for start,stop in zip(Z_start,Z_stop)]\n",
        "R[r] = Z[z]\n",
        "print(Z)\n",
        "print(R)"
      ]
    },
    {
      "cell_type": "markdown",
      "metadata": {
        "id": "gu2HkbDI8fH8"
      },
      "source": [
        "#### 81. Consider an array Z = \\[1,2,3,4,5,6,7,8,9,10,11,12,13,14\\], how to generate an array R = \\[\\[1,2,3,4\\], \\[2,3,4,5\\], \\[3,4,5,6\\], ..., \\[11,12,13,14\\]\\]? (★★★) \n",
        "(**hint**: stride\\_tricks.as\\_strided)"
      ]
    },
    {
      "cell_type": "code",
      "execution_count": 33,
      "metadata": {
        "id": "p4-q5xqC8fH8",
        "colab": {
          "base_uri": "https://localhost:8080/"
        },
        "outputId": "92df1f4f-c931-4e1f-816b-4e0bd8c2cf66"
      },
      "outputs": [
        {
          "output_type": "stream",
          "name": "stdout",
          "text": [
            "[[ 1  2  3  4]\n",
            " [ 2  3  4  5]\n",
            " [ 3  4  5  6]\n",
            " [ 4  5  6  7]\n",
            " [ 5  6  7  8]\n",
            " [ 6  7  8  9]\n",
            " [ 7  8  9 10]\n",
            " [ 8  9 10 11]\n",
            " [ 9 10 11 12]\n",
            " [10 11 12 13]\n",
            " [11 12 13 14]]\n"
          ]
        }
      ],
      "source": [
        "from numpy.lib import stride_tricks\n",
        "\n",
        "Z = np.arange(1,15,dtype=np.uint32)\n",
        "R = stride_tricks.as_strided(Z,(11,4),(4,4))\n",
        "print(R)"
      ]
    },
    {
      "cell_type": "markdown",
      "metadata": {
        "id": "ZKUP-57q8fH8"
      },
      "source": [
        "#### 82. Compute a matrix rank (★★★) \n",
        "(**hint**: np.linalg.svd) (suggestion: np.linalg.svd)"
      ]
    },
    {
      "cell_type": "code",
      "execution_count": 35,
      "metadata": {
        "id": "mn52XPTw8fH8",
        "colab": {
          "base_uri": "https://localhost:8080/"
        },
        "outputId": "78448ba8-6a58-408d-dc65-ba779f3c172a"
      },
      "outputs": [
        {
          "output_type": "stream",
          "name": "stdout",
          "text": [
            "10\n"
          ]
        }
      ],
      "source": [
        "Z = np.random.uniform(0,1,(10,10))\n",
        "U, S, V = np.linalg.svd(Z)\n",
        "rank = np.sum(S > 1e-10)\n",
        "print(rank)"
      ]
    },
    {
      "cell_type": "markdown",
      "metadata": {
        "id": "MGHqIPbn8fH8"
      },
      "source": [
        "#### 83. How to find the most frequent value in an array? \n",
        "(**hint**: np.bincount, argmax)"
      ]
    },
    {
      "cell_type": "code",
      "execution_count": 37,
      "metadata": {
        "id": "M0XCdSn68fH8",
        "colab": {
          "base_uri": "https://localhost:8080/"
        },
        "outputId": "0ec17968-23ca-42ec-f1c1-7dd679ac521f"
      },
      "outputs": [
        {
          "output_type": "stream",
          "name": "stdout",
          "text": [
            "7\n"
          ]
        }
      ],
      "source": [
        "Z = np.random.randint(0,10,50)\n",
        "print(np.bincount(Z).argmax())"
      ]
    },
    {
      "cell_type": "markdown",
      "metadata": {
        "id": "yzI5oe548fH8"
      },
      "source": [
        "#### 84. Extract all the contiguous 3x3 blocks from a random 10x10 matrix (★★★) \n",
        "(**hint**: stride\\_tricks.as\\_strided)"
      ]
    },
    {
      "cell_type": "code",
      "execution_count": 41,
      "metadata": {
        "id": "80OcVkkJ8fH9",
        "colab": {
          "base_uri": "https://localhost:8080/"
        },
        "outputId": "fc06a1b0-3f91-498c-f8bc-f20f0b404177"
      },
      "outputs": [
        {
          "output_type": "stream",
          "name": "stdout",
          "text": [
            "[[[[1 1 4]\n",
            "   [1 3 1]\n",
            "   [0 1 0]]\n",
            "\n",
            "  [[1 4 2]\n",
            "   [3 1 3]\n",
            "   [1 0 2]]\n",
            "\n",
            "  [[4 2 3]\n",
            "   [1 3 4]\n",
            "   [0 2 1]]\n",
            "\n",
            "  [[2 3 3]\n",
            "   [3 4 1]\n",
            "   [2 1 1]]\n",
            "\n",
            "  [[3 3 0]\n",
            "   [4 1 0]\n",
            "   [1 1 3]]\n",
            "\n",
            "  [[3 0 2]\n",
            "   [1 0 2]\n",
            "   [1 3 1]]\n",
            "\n",
            "  [[0 2 0]\n",
            "   [0 2 2]\n",
            "   [3 1 0]]\n",
            "\n",
            "  [[2 0 2]\n",
            "   [2 2 4]\n",
            "   [1 0 2]]]\n",
            "\n",
            "\n",
            " [[[1 3 1]\n",
            "   [0 1 0]\n",
            "   [2 1 4]]\n",
            "\n",
            "  [[3 1 3]\n",
            "   [1 0 2]\n",
            "   [1 4 3]]\n",
            "\n",
            "  [[1 3 4]\n",
            "   [0 2 1]\n",
            "   [4 3 2]]\n",
            "\n",
            "  [[3 4 1]\n",
            "   [2 1 1]\n",
            "   [3 2 1]]\n",
            "\n",
            "  [[4 1 0]\n",
            "   [1 1 3]\n",
            "   [2 1 4]]\n",
            "\n",
            "  [[1 0 2]\n",
            "   [1 3 1]\n",
            "   [1 4 3]]\n",
            "\n",
            "  [[0 2 2]\n",
            "   [3 1 0]\n",
            "   [4 3 0]]\n",
            "\n",
            "  [[2 2 4]\n",
            "   [1 0 2]\n",
            "   [3 0 2]]]\n",
            "\n",
            "\n",
            " [[[0 1 0]\n",
            "   [2 1 4]\n",
            "   [3 4 4]]\n",
            "\n",
            "  [[1 0 2]\n",
            "   [1 4 3]\n",
            "   [4 4 1]]\n",
            "\n",
            "  [[0 2 1]\n",
            "   [4 3 2]\n",
            "   [4 1 0]]\n",
            "\n",
            "  [[2 1 1]\n",
            "   [3 2 1]\n",
            "   [1 0 4]]\n",
            "\n",
            "  [[1 1 3]\n",
            "   [2 1 4]\n",
            "   [0 4 4]]\n",
            "\n",
            "  [[1 3 1]\n",
            "   [1 4 3]\n",
            "   [4 4 2]]\n",
            "\n",
            "  [[3 1 0]\n",
            "   [4 3 0]\n",
            "   [4 2 2]]\n",
            "\n",
            "  [[1 0 2]\n",
            "   [3 0 2]\n",
            "   [2 2 3]]]\n",
            "\n",
            "\n",
            " [[[2 1 4]\n",
            "   [3 4 4]\n",
            "   [3 3 1]]\n",
            "\n",
            "  [[1 4 3]\n",
            "   [4 4 1]\n",
            "   [3 1 2]]\n",
            "\n",
            "  [[4 3 2]\n",
            "   [4 1 0]\n",
            "   [1 2 0]]\n",
            "\n",
            "  [[3 2 1]\n",
            "   [1 0 4]\n",
            "   [2 0 0]]\n",
            "\n",
            "  [[2 1 4]\n",
            "   [0 4 4]\n",
            "   [0 0 3]]\n",
            "\n",
            "  [[1 4 3]\n",
            "   [4 4 2]\n",
            "   [0 3 2]]\n",
            "\n",
            "  [[4 3 0]\n",
            "   [4 2 2]\n",
            "   [3 2 0]]\n",
            "\n",
            "  [[3 0 2]\n",
            "   [2 2 3]\n",
            "   [2 0 4]]]\n",
            "\n",
            "\n",
            " [[[3 4 4]\n",
            "   [3 3 1]\n",
            "   [4 1 0]]\n",
            "\n",
            "  [[4 4 1]\n",
            "   [3 1 2]\n",
            "   [1 0 0]]\n",
            "\n",
            "  [[4 1 0]\n",
            "   [1 2 0]\n",
            "   [0 0 0]]\n",
            "\n",
            "  [[1 0 4]\n",
            "   [2 0 0]\n",
            "   [0 0 2]]\n",
            "\n",
            "  [[0 4 4]\n",
            "   [0 0 3]\n",
            "   [0 2 0]]\n",
            "\n",
            "  [[4 4 2]\n",
            "   [0 3 2]\n",
            "   [2 0 4]]\n",
            "\n",
            "  [[4 2 2]\n",
            "   [3 2 0]\n",
            "   [0 4 4]]\n",
            "\n",
            "  [[2 2 3]\n",
            "   [2 0 4]\n",
            "   [4 4 1]]]\n",
            "\n",
            "\n",
            " [[[3 3 1]\n",
            "   [4 1 0]\n",
            "   [4 4 3]]\n",
            "\n",
            "  [[3 1 2]\n",
            "   [1 0 0]\n",
            "   [4 3 4]]\n",
            "\n",
            "  [[1 2 0]\n",
            "   [0 0 0]\n",
            "   [3 4 1]]\n",
            "\n",
            "  [[2 0 0]\n",
            "   [0 0 2]\n",
            "   [4 1 1]]\n",
            "\n",
            "  [[0 0 3]\n",
            "   [0 2 0]\n",
            "   [1 1 0]]\n",
            "\n",
            "  [[0 3 2]\n",
            "   [2 0 4]\n",
            "   [1 0 3]]\n",
            "\n",
            "  [[3 2 0]\n",
            "   [0 4 4]\n",
            "   [0 3 3]]\n",
            "\n",
            "  [[2 0 4]\n",
            "   [4 4 1]\n",
            "   [3 3 4]]]\n",
            "\n",
            "\n",
            " [[[4 1 0]\n",
            "   [4 4 3]\n",
            "   [0 0 3]]\n",
            "\n",
            "  [[1 0 0]\n",
            "   [4 3 4]\n",
            "   [0 3 1]]\n",
            "\n",
            "  [[0 0 0]\n",
            "   [3 4 1]\n",
            "   [3 1 1]]\n",
            "\n",
            "  [[0 0 2]\n",
            "   [4 1 1]\n",
            "   [1 1 3]]\n",
            "\n",
            "  [[0 2 0]\n",
            "   [1 1 0]\n",
            "   [1 3 2]]\n",
            "\n",
            "  [[2 0 4]\n",
            "   [1 0 3]\n",
            "   [3 2 3]]\n",
            "\n",
            "  [[0 4 4]\n",
            "   [0 3 3]\n",
            "   [2 3 1]]\n",
            "\n",
            "  [[4 4 1]\n",
            "   [3 3 4]\n",
            "   [3 1 3]]]\n",
            "\n",
            "\n",
            " [[[4 4 3]\n",
            "   [0 0 3]\n",
            "   [2 4 3]]\n",
            "\n",
            "  [[4 3 4]\n",
            "   [0 3 1]\n",
            "   [4 3 4]]\n",
            "\n",
            "  [[3 4 1]\n",
            "   [3 1 1]\n",
            "   [3 4 1]]\n",
            "\n",
            "  [[4 1 1]\n",
            "   [1 1 3]\n",
            "   [4 1 1]]\n",
            "\n",
            "  [[1 1 0]\n",
            "   [1 3 2]\n",
            "   [1 1 2]]\n",
            "\n",
            "  [[1 0 3]\n",
            "   [3 2 3]\n",
            "   [1 2 2]]\n",
            "\n",
            "  [[0 3 3]\n",
            "   [2 3 1]\n",
            "   [2 2 0]]\n",
            "\n",
            "  [[3 3 4]\n",
            "   [3 1 3]\n",
            "   [2 0 4]]]]\n"
          ]
        }
      ],
      "source": [
        "from numpy.lib import stride_tricks\n",
        "\n",
        "Z = np.random.randint(0,5,(10,10))\n",
        "n = 3\n",
        "i = 1 + (Z.shape[0]-3)\n",
        "j = 1 + (Z.shape[1]-3)\n",
        "C = stride_tricks.as_strided(Z, shape=(i, j, n, n), strides=Z.strides + Z.strides)\n",
        "print(C)"
      ]
    },
    {
      "cell_type": "markdown",
      "metadata": {
        "id": "6sgV86tz8fH9"
      },
      "source": [
        "#### 85. Create a 2D array subclass such that Z\\[i,j\\] == Z\\[j,i\\] (★★★) \n",
        "(**hint**: class method)"
      ]
    },
    {
      "cell_type": "code",
      "execution_count": 42,
      "metadata": {
        "id": "ZZ3j8nPn8fH9",
        "colab": {
          "base_uri": "https://localhost:8080/"
        },
        "outputId": "589a1f2a-1474-4dd3-8f42-91e87ba49daa"
      },
      "outputs": [
        {
          "output_type": "stream",
          "name": "stdout",
          "text": [
            "[[ 7 14 11  5 10]\n",
            " [14  9 10 16 16]\n",
            " [11 10  5 42 10]\n",
            " [ 5 16 42  6  5]\n",
            " [10 16 10  5  7]]\n"
          ]
        }
      ],
      "source": [
        "class Symetric(np.ndarray):\n",
        "    def __setitem__(self, index, value):\n",
        "        i,j = index\n",
        "        super(Symetric, self).__setitem__((i,j), value)\n",
        "        super(Symetric, self).__setitem__((j,i), value)\n",
        "\n",
        "def symetric(Z):\n",
        "    return np.asarray(Z + Z.T - np.diag(Z.diagonal())).view(Symetric)\n",
        "\n",
        "S = symetric(np.random.randint(0,10,(5,5)))\n",
        "S[2,3] = 42\n",
        "print(S)"
      ]
    },
    {
      "cell_type": "markdown",
      "metadata": {
        "id": "YXfAWCDy8fH9"
      },
      "source": [
        "#### 86. Consider a set of p matrices wich shape (n,n) and a set of p vectors with shape (n,1). How to compute the sum of of the p matrix products at once? (result has shape (n,1)) (★★★) \n",
        "(**hint**: np.tensordot)"
      ]
    },
    {
      "cell_type": "code",
      "execution_count": 44,
      "metadata": {
        "id": "Q4iYesS38fH9",
        "colab": {
          "base_uri": "https://localhost:8080/"
        },
        "outputId": "568716bf-a862-47fe-baed-5f3ea8e3cb92"
      },
      "outputs": [
        {
          "output_type": "stream",
          "name": "stdout",
          "text": [
            "[[200.]\n",
            " [200.]\n",
            " [200.]\n",
            " [200.]\n",
            " [200.]\n",
            " [200.]\n",
            " [200.]\n",
            " [200.]\n",
            " [200.]\n",
            " [200.]\n",
            " [200.]\n",
            " [200.]\n",
            " [200.]\n",
            " [200.]\n",
            " [200.]\n",
            " [200.]\n",
            " [200.]\n",
            " [200.]\n",
            " [200.]\n",
            " [200.]]\n"
          ]
        }
      ],
      "source": [
        "p, n = 10, 20\n",
        "M = np.ones((p,n,n))\n",
        "V = np.ones((p,n,1))\n",
        "S = np.tensordot(M, V, axes=[[0, 2], [0, 1]])\n",
        "print(S)"
      ]
    },
    {
      "cell_type": "markdown",
      "metadata": {
        "id": "k0UFkbnU8fH9"
      },
      "source": [
        "#### 87. Consider a 16x16 array, how to get the block-sum (block size is 4x4)? (★★★) \n",
        "(**hint**: np.add.reduceat)"
      ]
    },
    {
      "cell_type": "code",
      "execution_count": 46,
      "metadata": {
        "id": "B9R-Aq2f8fH9",
        "colab": {
          "base_uri": "https://localhost:8080/"
        },
        "outputId": "1371d303-3de7-4250-d2aa-a50ac46374ed"
      },
      "outputs": [
        {
          "output_type": "stream",
          "name": "stdout",
          "text": [
            "[[16. 16. 16. 16.]\n",
            " [16. 16. 16. 16.]\n",
            " [16. 16. 16. 16.]\n",
            " [16. 16. 16. 16.]]\n"
          ]
        }
      ],
      "source": [
        "Z = np.ones((16,16))\n",
        "k = 4\n",
        "S = np.add.reduceat(np.add.reduceat(Z, np.arange(0, Z.shape[0], k), axis=0),\n",
        "                                       np.arange(0, Z.shape[1], k), axis=1)\n",
        "print(S)"
      ]
    },
    {
      "cell_type": "markdown",
      "metadata": {
        "id": "GUVk2TkB8fH-"
      },
      "source": [
        "#### 88. How to implement the Game of Life using numpy arrays? (★★★)"
      ]
    },
    {
      "cell_type": "code",
      "execution_count": 47,
      "metadata": {
        "id": "GM5ii2Ab8fH-",
        "colab": {
          "base_uri": "https://localhost:8080/"
        },
        "outputId": "d7d8dd1b-9abb-4524-e5c7-1d7d57d41195"
      },
      "outputs": [
        {
          "output_type": "stream",
          "name": "stdout",
          "text": [
            "[[0 0 0 ... 0 0 0]\n",
            " [0 0 0 ... 0 0 0]\n",
            " [0 0 0 ... 0 0 0]\n",
            " ...\n",
            " [0 0 0 ... 0 0 0]\n",
            " [0 0 0 ... 0 0 0]\n",
            " [0 0 0 ... 0 0 0]]\n"
          ]
        }
      ],
      "source": [
        "def iterate(Z):\n",
        "    N = (Z[0:-2,0:-2] + Z[0:-2,1:-1] + Z[0:-2,2:] +\n",
        "         Z[1:-1,0:-2]                + Z[1:-1,2:] +\n",
        "         Z[2:  ,0:-2] + Z[2:  ,1:-1] + Z[2:  ,2:])\n",
        "\n",
        "    birth = (N==3) & (Z[1:-1,1:-1]==0)\n",
        "    survive = ((N==2) | (N==3)) & (Z[1:-1,1:-1]==1)\n",
        "    Z[...] = 0\n",
        "    Z[1:-1,1:-1][birth | survive] = 1\n",
        "    return Z\n",
        "\n",
        "Z = np.random.randint(0,2,(50,50))\n",
        "for i in range(100): Z = iterate(Z)\n",
        "print(Z)"
      ]
    },
    {
      "cell_type": "markdown",
      "metadata": {
        "id": "6W6e0D-58fH-"
      },
      "source": [
        "#### 89. How to get the n largest values of an array (★★★) \n",
        "(**hint**: np.argsort | np.argpartition)"
      ]
    },
    {
      "cell_type": "code",
      "execution_count": 49,
      "metadata": {
        "id": "PKxZUER68fH-",
        "colab": {
          "base_uri": "https://localhost:8080/"
        },
        "outputId": "ed58e71d-9db3-4e6e-9c93-c993c509eb95"
      },
      "outputs": [
        {
          "output_type": "stream",
          "name": "stdout",
          "text": [
            "[95 96 97 98 99]\n",
            "[96 99 97 98 95]\n"
          ]
        }
      ],
      "source": [
        "Z = np.arange(100)\n",
        "np.random.shuffle(Z)\n",
        "n = 5\n",
        "print (Z[np.argsort(Z)[-n:]])\n",
        "print (Z[np.argpartition(-Z,n)[:n]])"
      ]
    },
    {
      "cell_type": "markdown",
      "metadata": {
        "id": "vH0zoAhz8fH-"
      },
      "source": [
        "#### 90. Given an arbitrary number of vectors, build the cartesian product (every combinations of every item) (★★★) \n",
        "(**hint**: np.indices)"
      ]
    },
    {
      "cell_type": "code",
      "execution_count": 50,
      "metadata": {
        "scrolled": true,
        "id": "U5zC6mUq8fH-",
        "colab": {
          "base_uri": "https://localhost:8080/"
        },
        "outputId": "21b7fa87-7e39-4755-88f5-60449121cb08"
      },
      "outputs": [
        {
          "output_type": "stream",
          "name": "stdout",
          "text": [
            "[[1 4 6]\n",
            " [1 4 7]\n",
            " [1 5 6]\n",
            " [1 5 7]\n",
            " [2 4 6]\n",
            " [2 4 7]\n",
            " [2 5 6]\n",
            " [2 5 7]\n",
            " [3 4 6]\n",
            " [3 4 7]\n",
            " [3 5 6]\n",
            " [3 5 7]]\n"
          ]
        }
      ],
      "source": [
        "def cartesian(arrays):\n",
        "    arrays = [np.asarray(a) for a in arrays]\n",
        "    shape = (len(x) for x in arrays)\n",
        "\n",
        "    ix = np.indices(shape, dtype=int)\n",
        "    ix = ix.reshape(len(arrays), -1).T\n",
        "\n",
        "    for n, arr in enumerate(arrays):\n",
        "        ix[:, n] = arrays[n][ix[:, n]]\n",
        "\n",
        "    return ix\n",
        "\n",
        "print (cartesian(([1, 2, 3], [4, 5], [6, 7])))"
      ]
    },
    {
      "cell_type": "markdown",
      "metadata": {
        "id": "SCUHxiAx8fH_"
      },
      "source": [
        "#### 91. How to create a record array from a regular array? (★★★) \n",
        "(**hint**: np.core.records.fromarrays)"
      ]
    },
    {
      "cell_type": "code",
      "execution_count": 51,
      "metadata": {
        "id": "Xh6b-IUN8fH_",
        "colab": {
          "base_uri": "https://localhost:8080/"
        },
        "outputId": "ab6aef1e-2b85-48f0-ad1c-f37abb10bf63"
      },
      "outputs": [
        {
          "output_type": "stream",
          "name": "stdout",
          "text": [
            "[(b'Hello', 2.5, 3) (b'World', 3.6, 2)]\n"
          ]
        }
      ],
      "source": [
        "Z = np.array([(\"Hello\", 2.5, 3),\n",
        "              (\"World\", 3.6, 2)])\n",
        "R = np.core.records.fromarrays(Z.T,\n",
        "                               names='col1, col2, col3',\n",
        "                               formats = 'S8, f8, i8')\n",
        "print(R)"
      ]
    },
    {
      "cell_type": "markdown",
      "metadata": {
        "id": "iw4fnPRS8fH_"
      },
      "source": [
        "#### 92. Consider a large vector Z, compute Z to the power of 3 using 3 different methods (★★★) \n",
        "(**hint**: np.power, \\*, np.einsum)"
      ]
    },
    {
      "cell_type": "code",
      "execution_count": 56,
      "metadata": {
        "id": "6PFKm54U8fH_",
        "colab": {
          "base_uri": "https://localhost:8080/"
        },
        "outputId": "166f5ca8-afc1-4ca9-b984-16f42bd59bd1"
      },
      "outputs": [
        {
          "output_type": "stream",
          "name": "stdout",
          "text": [
            "39.1 µs ± 427 ns per loop (mean ± std. dev. of 7 runs, 10000 loops each)\n",
            "1.76 µs ± 371 ns per loop (mean ± std. dev. of 7 runs, 1000000 loops each)\n",
            "4.23 µs ± 1.03 µs per loop (mean ± std. dev. of 7 runs, 100000 loops each)\n"
          ]
        }
      ],
      "source": [
        "x = np.random.rand(int(5e2))\n",
        "\n",
        "%timeit np.power(x,3)\n",
        "%timeit x*x*x\n",
        "%timeit np.einsum('i,i,i->i',x,x,x)"
      ]
    },
    {
      "cell_type": "markdown",
      "metadata": {
        "id": "ImHzCiKR8fH_"
      },
      "source": [
        "#### 93. Consider two arrays A and B of shape (8,3) and (2,2). How to find rows of A that contain elements of each row of B regardless of the order of the elements in B? (★★★) \n",
        "(**hint**: np.where)"
      ]
    },
    {
      "cell_type": "code",
      "execution_count": 57,
      "metadata": {
        "id": "vMyTPIV-8fH_",
        "colab": {
          "base_uri": "https://localhost:8080/"
        },
        "outputId": "181b2bc9-dc63-4b94-a708-3f42798c03ff"
      },
      "outputs": [
        {
          "output_type": "stream",
          "name": "stdout",
          "text": [
            "[0 1 2 5 7]\n"
          ]
        }
      ],
      "source": [
        "A = np.random.randint(0,5,(8,3))\n",
        "B = np.random.randint(0,5,(2,2))\n",
        "\n",
        "C = (A[..., np.newaxis, np.newaxis] == B)\n",
        "rows = np.where(C.any((3,1)).all(1))[0]\n",
        "print(rows)"
      ]
    },
    {
      "cell_type": "markdown",
      "metadata": {
        "id": "ph1AGNPb8fH_"
      },
      "source": [
        "#### 94. Considering a 10x3 matrix, extract rows with unequal values (e.g. \\[2,2,3\\]) (★★★)"
      ]
    },
    {
      "cell_type": "code",
      "execution_count": 59,
      "metadata": {
        "id": "XUXZg0Gw8fH_",
        "colab": {
          "base_uri": "https://localhost:8080/"
        },
        "outputId": "833e5a90-b0d3-421d-ccb2-593b19c7d81b"
      },
      "outputs": [
        {
          "output_type": "stream",
          "name": "stdout",
          "text": [
            "[[4 4 0]\n",
            " [3 2 2]\n",
            " [4 3 0]\n",
            " [0 4 2]\n",
            " [4 0 0]\n",
            " [3 4 4]\n",
            " [2 3 4]\n",
            " [0 2 0]\n",
            " [2 3 0]\n",
            " [0 0 2]]\n",
            "[[4 4 0]\n",
            " [3 2 2]\n",
            " [4 3 0]\n",
            " [0 4 2]\n",
            " [4 0 0]\n",
            " [3 4 4]\n",
            " [2 3 4]\n",
            " [0 2 0]\n",
            " [2 3 0]\n",
            " [0 0 2]]\n"
          ]
        }
      ],
      "source": [
        "Z = np.random.randint(0,5,(10,3))\n",
        "print(Z)\n",
        "E = np.all(Z[:,1:] == Z[:,:-1], axis=1)\n",
        "U = Z[~E]\n",
        "print(U)"
      ]
    },
    {
      "cell_type": "markdown",
      "metadata": {
        "id": "RrI70ca68fH_"
      },
      "source": [
        "#### 95. Convert a vector of ints into a matrix binary representation (★★★) \n",
        "(**hint**: np.unpackbits)"
      ]
    },
    {
      "cell_type": "code",
      "execution_count": 60,
      "metadata": {
        "id": "LvJVDA0B8fIA",
        "colab": {
          "base_uri": "https://localhost:8080/"
        },
        "outputId": "dd975c0e-4317-4a4a-8d21-57c96d922591"
      },
      "outputs": [
        {
          "output_type": "stream",
          "name": "stdout",
          "text": [
            "[[0 0 0 0 0 0 0 0]\n",
            " [0 0 0 0 0 0 0 1]\n",
            " [0 0 0 0 0 0 1 0]\n",
            " [0 0 0 0 0 0 1 1]\n",
            " [0 0 0 0 1 1 1 1]\n",
            " [0 0 0 1 0 0 0 0]\n",
            " [0 0 1 0 0 0 0 0]\n",
            " [0 1 0 0 0 0 0 0]\n",
            " [1 0 0 0 0 0 0 0]]\n"
          ]
        }
      ],
      "source": [
        "I = np.array([0, 1, 2, 3, 15, 16, 32, 64, 128], dtype=np.uint8)\n",
        "print(np.unpackbits(I[:, np.newaxis], axis=1))"
      ]
    },
    {
      "cell_type": "markdown",
      "metadata": {
        "id": "jx_sPt6F8fIA"
      },
      "source": [
        "#### 96. Given a two dimensional array, how to extract unique rows? (★★★) \n",
        "(**hint**: np.ascontiguousarray)"
      ]
    },
    {
      "cell_type": "code",
      "execution_count": 61,
      "metadata": {
        "id": "8J9oSTlM8fIA",
        "colab": {
          "base_uri": "https://localhost:8080/"
        },
        "outputId": "3b04605a-006a-4ee1-8cb0-5e470515ed7b"
      },
      "outputs": [
        {
          "output_type": "stream",
          "name": "stdout",
          "text": [
            "[[0 0 1]\n",
            " [0 1 1]\n",
            " [1 0 1]\n",
            " [1 1 0]\n",
            " [1 1 1]]\n"
          ]
        }
      ],
      "source": [
        "Z = np.random.randint(0,2,(6,3))\n",
        "T = np.ascontiguousarray(Z).view(np.dtype((np.void, Z.dtype.itemsize * Z.shape[1])))\n",
        "_, idx = np.unique(T, return_index=True)\n",
        "uZ = Z[idx]\n",
        "print(uZ)"
      ]
    },
    {
      "cell_type": "markdown",
      "metadata": {
        "id": "9Ki6q-JM8fIA"
      },
      "source": [
        "#### 97. Considering 2 vectors A & B, write the einsum equivalent of inner, outer, sum, and mul function (★★★) \n",
        "(**hint**: np.einsum)"
      ]
    },
    {
      "cell_type": "code",
      "execution_count": 62,
      "metadata": {
        "id": "O6z7fyn38fIA",
        "colab": {
          "base_uri": "https://localhost:8080/"
        },
        "outputId": "5614a9b7-11be-4a32-e7d6-1686f80027c1"
      },
      "outputs": [
        {
          "output_type": "execute_result",
          "data": {
            "text/plain": [
              "array([[0.14262315, 0.82673995, 0.16632615, 0.23287007, 0.06066096,\n",
              "        0.50280132, 0.06202784, 0.02006363, 0.2536228 , 0.12598974],\n",
              "       [0.1034064 , 0.59941325, 0.12059184, 0.16883834, 0.04398116,\n",
              "        0.36454725, 0.04497219, 0.01454678, 0.18388475, 0.09134664],\n",
              "       [0.12248898, 0.71002875, 0.14284582, 0.19999571, 0.05209743,\n",
              "        0.43182066, 0.05327135, 0.01723124, 0.21781877, 0.10820372],\n",
              "       [0.01976834, 0.11459066, 0.02305371, 0.03227706, 0.00840794,\n",
              "        0.069691  , 0.0085974 , 0.00278093, 0.0351535 , 0.01746286],\n",
              "       [0.0524764 , 0.30418859, 0.06119762, 0.08568162, 0.02231944,\n",
              "        0.18499944, 0.02282237, 0.00738216, 0.09331733, 0.04635634],\n",
              "       [0.00812841, 0.04711777, 0.0094793 , 0.01327179, 0.0034572 ,\n",
              "        0.02865578, 0.00353511, 0.00114347, 0.01445453, 0.00718044],\n",
              "       [0.11738083, 0.68041845, 0.13688873, 0.1916553 , 0.04992481,\n",
              "        0.41381246, 0.05104977, 0.01651265, 0.20873508, 0.1036913 ],\n",
              "       [0.09654509, 0.55964047, 0.11259023, 0.15763544, 0.04106288,\n",
              "        0.3403585 , 0.04198816, 0.01358156, 0.17168347, 0.08528553],\n",
              "       [0.05078638, 0.29439212, 0.05922673, 0.08292222, 0.02160064,\n",
              "        0.17904148, 0.02208737, 0.00714442, 0.09031202, 0.04486343],\n",
              "       [0.1325744 , 0.76849062, 0.15460736, 0.21646282, 0.05638699,\n",
              "        0.46737562, 0.05765757, 0.01865002, 0.23575339, 0.11711293]])"
            ]
          },
          "metadata": {},
          "execution_count": 62
        }
      ],
      "source": [
        "A = np.random.uniform(0,1,10)\n",
        "B = np.random.uniform(0,1,10)\n",
        "\n",
        "np.einsum('i->', A)       \n",
        "np.einsum('i,i->i', A, B)\n",
        "np.einsum('i,i', A, B)   \n",
        "np.einsum('i,j->ij', A, B)"
      ]
    },
    {
      "cell_type": "markdown",
      "metadata": {
        "id": "JF00gKOY8fIA"
      },
      "source": [
        "#### 98. Considering a path described by two vectors (X,Y), how to sample it using equidistant samples (★★★)? \n",
        "(**hint**: np.cumsum, np.interp)"
      ]
    },
    {
      "cell_type": "code",
      "execution_count": 67,
      "metadata": {
        "collapsed": true,
        "id": "97q24b348fIA",
        "colab": {
          "base_uri": "https://localhost:8080/"
        },
        "outputId": "6bfaf634-5e24-4380-d5e4-bba2eb7c4d55"
      },
      "outputs": [
        {
          "output_type": "stream",
          "name": "stdout",
          "text": [
            "[ 0.00000000e+00 -3.73131229e-01 -2.59817608e+00 -3.26212050e+00\n",
            " -2.18442687e+00 -2.98929946e-02  2.42923642e+00  4.54913599e+00\n",
            "  5.92318348e+00  6.35117933e+00  5.82369277e+00  4.46259540e+00\n",
            "  2.47320794e+00  1.09577220e-01 -2.36575300e+00 -4.71261671e+00\n",
            " -6.72701769e+00 -8.25541575e+00 -9.18486120e+00 -9.46381505e+00\n",
            " -9.11085788e+00 -8.12875279e+00 -6.63306046e+00 -4.69271059e+00\n",
            " -2.44736165e+00 -2.05444585e-02  2.46101146e+00  4.86841760e+00\n",
            "  7.08937968e+00  9.02539126e+00  1.05948609e+01  1.17357250e+01\n",
            "  1.24068974e+01  1.25885805e+01  1.22815267e+01  1.15053927e+01\n",
            "  1.02963689e+01  8.70429550e+00  6.78948686e+00  4.61716636e+00\n",
            "  2.25853448e+00 -1.98731680e-01 -2.68040566e+00 -5.11543300e+00\n",
            " -7.41973991e+00 -9.53891040e+00 -1.14237629e+01 -1.29919305e+01\n",
            " -1.42355069e+01 -1.51243232e+01 -1.56061571e+01 -1.57219415e+01\n",
            " -1.54217066e+01 -1.47579136e+01 -1.37255236e+01 -1.23634834e+01\n",
            " -1.07024632e+01 -8.78327367e+00 -6.65029558e+00 -4.35514246e+00\n",
            " -1.94290275e+00  5.28038914e-01  3.00985904e+00  5.45450275e+00\n",
            "  7.80093594e+00  1.00179639e+01  1.20595602e+01  1.38732623e+01\n",
            "  1.54564938e+01  1.67497894e+01  1.77435802e+01  1.84439878e+01\n",
            "  1.87990820e+01  1.88271003e+01  1.85472755e+01  1.79378850e+01\n",
            "  1.70105456e+01  1.58085777e+01  1.43501808e+01  1.26222364e+01\n",
            "  1.06905445e+01  8.58498641e+00  6.33562529e+00  3.96179025e+00\n",
            "  1.51802643e+00 -9.61699044e-01 -3.44349301e+00 -5.88951759e+00\n",
            " -8.26006582e+00 -1.05270865e+01 -1.26610269e+01 -1.46343020e+01\n",
            " -1.64206033e+01 -1.79708499e+01 -1.92894561e+01 -2.03605967e+01\n",
            " -2.11716587e+01 -2.17133504e+01 -2.19797677e+01 -2.19626531e+01\n",
            " -2.16476737e+01 -2.10622561e+01 -2.02145809e+01 -1.91158467e+01\n",
            " -1.77800930e+01 -1.62239930e+01 -1.44666197e+01 -1.25291882e+01\n",
            " -1.04347777e+01 -8.20773276e+00 -5.86978851e+00 -3.45563299e+00\n",
            " -9.92556869e-01  1.49191203e+00  3.97031733e+00  6.41557503e+00\n",
            "  8.80126359e+00  1.11019001e+01  1.32931995e+01  1.53523150e+01\n",
            "  1.72580567e+01  1.89910866e+01  2.05340895e+01  2.18719167e+01\n",
            "  2.29917039e+01  2.38829603e+01  2.45376309e+01  2.49501314e+01\n",
            "  2.51173551e+01  2.50386548e+01  2.47157984e+01  2.41529019e+01\n",
            "  2.33563391e+01  2.23346314e+01  2.10983193e+01  1.96598169e+01\n",
            "  1.80332532e+01  1.62343003e+01  1.42799934e+01  1.21885425e+01\n",
            "  9.97914013e+00  7.67176574e+00  5.28699023e+00  2.84441658e+00\n",
            "  3.68190102e-01 -2.11846865e+00 -4.59426061e+00 -7.03829202e+00\n",
            " -9.43024209e+00 -1.17505186e+01 -1.39803999e+01 -1.61021634e+01\n",
            " -1.80991985e+01 -1.99561058e+01 -2.16587804e+01 -2.31850397e+01\n",
            " -2.45166960e+01 -2.56568097e+01 -2.65976904e+01 -2.73332424e+01\n",
            " -2.78589555e+01 -2.81718833e+01 -2.82706110e+01 -2.81552119e+01\n",
            " -2.78066635e+01 -2.72341677e+01 -2.64578863e+01 -2.54844118e+01\n",
            " -2.43214986e+01 -2.29779690e+01 -2.14636172e+01 -1.97837046e+01\n",
            " -1.79341987e+01 -1.59545785e+01 -1.38585628e+01 -1.16602783e+01\n",
            " -9.37416511e+00 -7.01488958e+00 -4.59184632e+00 -2.12995331e+00\n",
            "  3.50691071e-01  2.83498918e+00  5.30813450e+00  7.75565814e+00\n",
            "  1.01522531e+01  1.24813227e+01  1.47337756e+01  1.68973642e+01\n",
            "  1.89604991e+01  2.09071945e+01  2.26943693e+01  2.43420179e+01\n",
            "  2.58422998e+01  2.71881423e+01  2.83731992e+01  2.93376609e+01\n",
            "  3.01222558e+01  3.07280750e+01  3.11531219e+01  3.13960177e+01]\n",
            "[ 0.00000000e+00  1.74026724e+00  9.81816584e-01 -1.34251287e+00\n",
            " -3.53191891e+00 -4.70449474e+00 -4.59573427e+00 -3.33831870e+00\n",
            " -1.28956083e+00  1.14234685e+00  3.55645601e+00  5.62188218e+00\n",
            "  7.09389488e+00  7.82951803e+00  7.78700678e+00  6.99685666e+00\n",
            "  5.55535240e+00  3.60417006e+00  1.30506373e+00 -1.15819722e+00\n",
            " -3.61328132e+00 -5.89130465e+00 -7.87065053e+00 -9.41689057e+00\n",
            " -1.04714836e+01 -1.09903787e+01 -1.09354306e+01 -1.03330912e+01\n",
            " -9.22690166e+00 -7.67489830e+00 -5.75257980e+00 -3.54832201e+00\n",
            " -1.15854355e+00  1.31709956e+00  3.78023622e+00  6.13780326e+00\n",
            "  8.30540149e+00  1.02098724e+01  1.17910419e+01  1.29972950e+01\n",
            "  1.37774249e+01  1.41319792e+01  1.40585758e+01  1.35636816e+01\n",
            "  1.26345244e+01  1.13409083e+01  9.72216360e+00  7.79464305e+00\n",
            "  5.64544223e+00  3.32503222e+00  8.88107041e-01 -1.59329248e+00\n",
            " -4.05992507e+00 -6.45313746e+00 -8.71327144e+00 -1.07900854e+01\n",
            " -1.26380653e+01 -1.42147006e+01 -1.54892299e+01 -1.64390858e+01\n",
            " -1.70351433e+01 -1.72938948e+01 -1.71685631e+01 -1.67219979e+01\n",
            " -1.59044166e+01 -1.47824153e+01 -1.33665280e+01 -1.16678134e+01\n",
            " -9.75246391e+00 -7.63091465e+00 -5.35345831e+00 -2.96905840e+00\n",
            " -5.09631905e-01  1.97507060e+00  4.44430515e+00  6.85344809e+00\n",
            "  9.15903461e+00  1.13337844e+01  1.33467125e+01  1.51336120e+01\n",
            "  1.66966787e+01  1.80162922e+01  1.90746708e+01  1.98127969e+01\n",
            "  2.02634499e+01  2.04221761e+01  2.02877631e+01  1.98449702e+01\n",
            "  1.90974465e+01  1.80799531e+01  1.68069397e+01  1.52959771e+01\n",
            "  1.35665801e+01  1.16227312e+01  9.51601869e+00  7.27388893e+00\n",
            "  4.92519240e+00  2.49981337e+00  2.82932820e-02 -2.45817963e+00\n",
            " -4.92460367e+00 -7.34030894e+00 -9.67635928e+00 -1.19050601e+01\n",
            " -1.40002645e+01 -1.59376556e+01 -1.76950019e+01 -1.92523833e+01\n",
            " -2.05923861e+01 -2.16995543e+01 -2.25478860e+01 -2.31432552e+01\n",
            " -2.34800725e+01 -2.35556687e+01 -2.33702741e+01 -2.29269662e+01\n",
            " -2.22315865e+01 -2.12926288e+01 -2.01211000e+01 -1.87303570e+01\n",
            " -1.71359212e+01 -1.53552740e+01 -1.34076356e+01 -1.13137308e+01\n",
            " -9.09554383e+00 -6.77606668e+00 -4.37904252e+00 -1.92870828e+00\n",
            "  5.50461201e-01  3.03400451e+00  5.49771780e+00  7.91788934e+00\n",
            "  1.02715222e+01  1.25365431e+01  1.46919953e+01  1.67182148e+01\n",
            "  1.85969872e+01  2.03116866e+01  2.18473923e+01  2.31909872e+01\n",
            "  2.43312337e+01  2.52588296e+01  2.59664444e+01  2.64391214e+01\n",
            "  2.66748505e+01  2.66796333e+01  2.64545680e+01  2.60026765e+01\n",
            "  2.53288265e+01  2.44396400e+01  2.33433894e+01  2.20498837e+01\n",
            "  2.05703459e+01  1.89172843e+01  1.71043584e+01  1.51396391e+01\n",
            "  1.30387952e+01  1.08294252e+01  8.52903617e+00  6.15551380e+00\n",
            "  3.72697869e+00  1.26164946e+00 -1.22228693e+00 -3.70679651e+00\n",
            " -6.17014862e+00 -8.59028675e+00 -1.09516293e+01 -1.32379536e+01\n",
            " -1.54338179e+01 -1.75246263e+01 -1.94966815e+01 -2.13317519e+01\n",
            " -2.29952001e+01 -2.44987532e+01 -2.58335652e+01 -2.69919481e+01\n",
            " -2.79673583e+01 -2.87543764e+01 -2.93186910e+01 -2.96679958e+01\n",
            " -2.98181354e+01 -2.97693731e+01 -2.95229769e+01 -2.90811595e+01\n",
            " -2.84133854e+01 -2.75430665e+01 -2.64934034e+01 -2.52713717e+01\n",
            " -2.38845608e+01 -2.23353782e+01 -2.06051319e+01 -1.87442619e+01\n",
            " -1.67635423e+01 -1.46739620e+01 -1.24866789e+01 -1.01933401e+01\n",
            " -7.83474328e+00 -5.42495146e+00 -2.97607515e+00 -5.00072086e-01]\n"
          ]
        }
      ],
      "source": [
        "phi = np.arange(0, 10*np.pi, 0.1)\n",
        "a = 1\n",
        "x = a*phi*np.cos(phi)\n",
        "y = a*phi*np.sin(phi)\n",
        "\n",
        "dr = (np.diff(x)**2 + np.diff(y)**2)**.5 \n",
        "r = np.zeros_like(x)\n",
        "r[1:] = np.cumsum(dr)                \n",
        "r_int = np.linspace(0, r.max(), 200) \n",
        "x_int = np.interp(r_int, r, x)       \n",
        "y_int = np.interp(r_int, r, y)\n",
        "print(x_int)\n",
        "print(y_int)"
      ]
    },
    {
      "cell_type": "markdown",
      "metadata": {
        "id": "ay1Bj1ob8fIA"
      },
      "source": [
        "#### 99. Given an integer n and a 2D array X, select from X the rows which can be interpreted as draws from a multinomial distribution with n degrees, i.e., the rows which only contain integers and which sum to n. (★★★) \n",
        "(**hint**: np.logical\\_and.reduce, np.mod)"
      ]
    },
    {
      "cell_type": "code",
      "execution_count": 65,
      "metadata": {
        "id": "5KFq0NNe8fID",
        "colab": {
          "base_uri": "https://localhost:8080/"
        },
        "outputId": "e85cc760-e60d-4178-866a-12f80177b479"
      },
      "outputs": [
        {
          "output_type": "stream",
          "name": "stdout",
          "text": [
            "[[ 1  5  6 -8]\n",
            " [ 1  1  0  2]]\n"
          ]
        }
      ],
      "source": [
        "X = np.asarray([[1,5,6,-8],\n",
        "                [1,1,0,2],\n",
        "                [1,6,4,7]])\n",
        "n = 4\n",
        "M = np.logical_and.reduce(np.mod(X, 1) == 0, axis=-1)\n",
        "M &= (X.sum(axis=-1) == n)\n",
        "print(X[M])"
      ]
    },
    {
      "cell_type": "markdown",
      "metadata": {
        "id": "ZdS1TUG18fID"
      },
      "source": [
        "#### 100. Compute bootstrapped 95% confidence intervals for the mean of a 1D array X (i.e., resample the elements of an array with replacement N times, compute the mean of each sample, and then compute percentiles over the means). (★★★) \n",
        "(**hint**: np.percentile)"
      ]
    },
    {
      "cell_type": "code",
      "execution_count": 64,
      "metadata": {
        "id": "MFfeU_M48fIE",
        "colab": {
          "base_uri": "https://localhost:8080/"
        },
        "outputId": "34ddfa2f-6cc4-4026-d45f-4c2ef8a58c3f"
      },
      "outputs": [
        {
          "output_type": "stream",
          "name": "stdout",
          "text": [
            "[-0.3448513   0.12821053]\n"
          ]
        }
      ],
      "source": [
        "n=100\n",
        "X = np.random.randn(100) \n",
        "i= np.random.randint(0, X.size, (n, X.size))\n",
        "z = X[i].mean(axis=1)\n",
        "c = np.percentile(z, [0, 95])\n",
        "print(c)"
      ]
    }
  ],
  "metadata": {
    "kernelspec": {
      "display_name": "Python 3",
      "language": "python",
      "name": "python3"
    },
    "language_info": {
      "codemirror_mode": {
        "name": "ipython",
        "version": 3
      },
      "file_extension": ".py",
      "mimetype": "text/x-python",
      "name": "python",
      "nbconvert_exporter": "python",
      "pygments_lexer": "ipython3",
      "version": "3.8.3"
    },
    "colab": {
      "name": "task_2.ipynb",
      "provenance": [],
      "collapsed_sections": [
        "_UkCqZ_r8fH1",
        "IMcKpS1w8fH1",
        "3K9Hx5bz8fH1",
        "tuyQBENO8fH1",
        "-_HTUS0v8fH2",
        "QEAMyErQ8fH2",
        "uzpF9qsy8fH2",
        "1oLoZfPb8fH2",
        "jbDjoI3t8fH3",
        "qNZHyQ3d8fH3",
        "X7zH4roB8fH4",
        "L51n3GzO8fH5",
        "RdJ8EcAV8fH6",
        "a3YAWWe_8fH6",
        "slXX-kx08fH6",
        "4X58vYLS8fH6",
        "BDAOg1R68fH7",
        "XnUygqE-8fH7",
        "EkYZcxk-8fH7",
        "gu2HkbDI8fH8",
        "ZKUP-57q8fH8",
        "MGHqIPbn8fH8",
        "yzI5oe548fH8",
        "6sgV86tz8fH9",
        "YXfAWCDy8fH9",
        "k0UFkbnU8fH9",
        "GUVk2TkB8fH-",
        "6W6e0D-58fH-",
        "vH0zoAhz8fH-",
        "SCUHxiAx8fH_",
        "iw4fnPRS8fH_",
        "ImHzCiKR8fH_",
        "ph1AGNPb8fH_",
        "RrI70ca68fH_",
        "jx_sPt6F8fIA",
        "9Ki6q-JM8fIA",
        "JF00gKOY8fIA"
      ],
      "include_colab_link": true
    }
  },
  "nbformat": 4,
  "nbformat_minor": 0
}